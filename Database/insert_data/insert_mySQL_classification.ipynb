{
 "cells": [
  {
   "cell_type": "code",
   "execution_count": null,
   "metadata": {
    "collapsed": true
   },
   "outputs": [],
   "source": [
    "!pip install PyMySQL\n",
    "!pip install peewee"
   ]
  },
  {
   "cell_type": "code",
   "execution_count": 1,
   "metadata": {
    "collapsed": true
   },
   "outputs": [],
   "source": [
    "#  connection on EC2 RDS\n",
    "\n",
    "import peewee\n",
    "import pymysql\n",
    "\n",
    "db = peewee.MySQLDatabase('myproject',\n",
    "                          user='BB1032',\n",
    "                          host='localhost',\n",
    "                          password='IamBB1032',\n",
    "                          port=5200)"
   ]
  },
  {
   "cell_type": "code",
   "execution_count": 5,
   "metadata": {
    "collapsed": true
   },
   "outputs": [],
   "source": [
    "# connection on localhost\n",
    "# Setting database's connection\n",
    "\n",
    "import peewee\n",
    "import pymysql\n",
    "\n",
    "db = peewee.MySQLDatabase('myproject',\n",
    "                          user='root',\n",
    "                          host='localhost',\n",
    "                          password='athena1225')"
   ]
  },
  {
   "cell_type": "code",
   "execution_count": 2,
   "metadata": {},
   "outputs": [
    {
     "data": {
      "text/plain": [
       "[ColumnMetadata(name='class_id', data_type='int', null=False, primary_key=True, table='classification'),\n",
       " ColumnMetadata(name='class_name', data_type='varchar', null=True, primary_key=False, table='classification')]"
      ]
     },
     "execution_count": 2,
     "metadata": {},
     "output_type": "execute_result"
    }
   ],
   "source": [
    "# connected successfully\n",
    "# must bulid the schema before connected\n",
    "\n",
    "\n",
    "db.get_columns('classification')"
   ]
  },
  {
   "cell_type": "code",
   "execution_count": 3,
   "metadata": {
    "collapsed": true
   },
   "outputs": [],
   "source": [
    "class classification(peewee.Model):\n",
    "    class_id = peewee.IntegerField()\n",
    "    class_name = peewee.CharField()\n",
    "    \n",
    "    class Meta:\n",
    "        database = db"
   ]
  },
  {
   "cell_type": "code",
   "execution_count": 4,
   "metadata": {
    "collapsed": true
   },
   "outputs": [],
   "source": [
    "# insert data into classification -> success\n",
    "\n",
    "class_list = [{'class_name':'eyebrow', 'class_id':1},{'class_name':'eye_liner', 'class_id':2},{'class_name':'base', 'class_id':3},{'class_name':'lip_stick', 'class_id':4}]\n",
    "class_dict = ({'class_id': class_list[i]['class_id'],\n",
    "               'class_name': class_list[i]['class_name']} for i in range(len(class_list)))\n",
    "\n",
    "with db.atomic():\n",
    "    classification.insert_many(class_dict).execute()"
   ]
  },
  {
   "cell_type": "code",
   "execution_count": null,
   "metadata": {
    "collapsed": true
   },
   "outputs": [],
   "source": []
  }
 ],
 "metadata": {
  "kernelspec": {
   "display_name": "Python 3",
   "language": "python",
   "name": "python3"
  },
  "language_info": {
   "codemirror_mode": {
    "name": "ipython",
    "version": 3
   },
   "file_extension": ".py",
   "mimetype": "text/x-python",
   "name": "python",
   "nbconvert_exporter": "python",
   "pygments_lexer": "ipython3",
   "version": "3.6.1"
  }
 },
 "nbformat": 4,
 "nbformat_minor": 2
}
