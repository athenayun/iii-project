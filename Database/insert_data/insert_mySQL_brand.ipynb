{
 "cells": [
  {
   "cell_type": "code",
   "execution_count": null,
   "metadata": {
    "collapsed": true
   },
   "outputs": [],
   "source": [
    "!pip install PyMySQL\n",
    "!pip install peewee"
   ]
  },
  {
   "cell_type": "code",
   "execution_count": 13,
   "metadata": {
    "collapsed": true
   },
   "outputs": [],
   "source": [
    "#  connection on EC2 RDS\n",
    "\n",
    "import peewee\n",
    "import pymysql\n",
    "\n",
    "db = peewee.MySQLDatabase('myproject',\n",
    "                          user='BB1032',\n",
    "                          host='localhost',\n",
    "                          password='IamBB1032',\n",
    "                          port=5200)"
   ]
  },
  {
   "cell_type": "code",
   "execution_count": 23,
   "metadata": {
    "collapsed": true
   },
   "outputs": [],
   "source": [
    "# connection on localhost\n",
    "# Setting database's connection\n",
    "\n",
    "import peewee\n",
    "import pymysql\n",
    "\n",
    "db = peewee.MySQLDatabase('myproject',\n",
    "                          user='root',\n",
    "                          host='localhost',\n",
    "                          password='athena1225')"
   ]
  },
  {
   "cell_type": "code",
   "execution_count": 14,
   "metadata": {},
   "outputs": [
    {
     "data": {
      "text/plain": [
       "[ColumnMetadata(name='brand_id', data_type='int', null=False, primary_key=True, table='brand'),\n",
       " ColumnMetadata(name='brand_name', data_type='varchar', null=True, primary_key=False, table='brand')]"
      ]
     },
     "execution_count": 14,
     "metadata": {},
     "output_type": "execute_result"
    }
   ],
   "source": [
    "# connected successfully\n",
    "# must bulid the schema before connected\n",
    "\n",
    "\n",
    "db.get_columns('brand')"
   ]
  },
  {
   "cell_type": "code",
   "execution_count": 15,
   "metadata": {
    "collapsed": true
   },
   "outputs": [],
   "source": [
    "class brand(peewee.Model):\n",
    "    brand_id = peewee.IntegerField()\n",
    "    brand_name = peewee.CharField()\n",
    "    \n",
    "    class Meta:\n",
    "        database = db"
   ]
  },
  {
   "cell_type": "code",
   "execution_count": 4,
   "metadata": {
    "collapsed": true
   },
   "outputs": [],
   "source": [
    "# Functions\n",
    "\n",
    "def brand_numeric(uni_file):\n",
    "    \n",
    "    # making a clean brand list\n",
    "    \n",
    "    brand_lists = []\n",
    "    brand_lists.append(uni_file['brand'])\n",
    "    \n",
    "    unique_brand_lists = []\n",
    "    \n",
    "    for brand in brand_lists:\n",
    "        if brand not in unique_brand_lists :\n",
    "            unique_brand_lists.append(brand)\n",
    "            \n",
    "        \n",
    "    brands = []\n",
    "\n",
    "    for i in unique_brand_lists:\n",
    "        bb = {'%s'%i : unique_brand_lists.index(i)}\n",
    "        #print(bb)\n",
    "        brands.append(bb)\n",
    "    \n",
    "    \n",
    "    # changing file's brand into numeric\n",
    "    \n",
    "    for x in range(len(brands)) :\n",
    "        if uni_file['brand'] not in brands[x].keys() :\n",
    "            continue              \n",
    "        else :\n",
    "            br_num = brands.index({'%s'%uni_file['brand']:x})  \n",
    "            values = brands[br_num]['%s'%uni_file['brand']]\n",
    "            #print(values)\n",
    "            uni_file['brand'] = values\n",
    "            #print(uni_file)\n",
    "        \n",
    "    return uni_file\n"
   ]
  },
  {
   "cell_type": "code",
   "execution_count": 5,
   "metadata": {
    "collapsed": true
   },
   "outputs": [],
   "source": [
    "# Function\n",
    "\n",
    "def unified_field(j_file):\n",
    "    \n",
    "    if 'listing_date' not in j_file.keys():\n",
    "        j_file['listing_date']='null'\n",
    "            \n",
    "            #pprint(j_file)\n",
    "    if 'product_color' not in j_file.keys():\n",
    "        j_file['product_color']='one_color'\n",
    "            \n",
    "    if 'product_ID'not in j_file.keys():\n",
    "        j_file['product_ID']='null'\n",
    "            \n",
    "    if 'product_name'not in j_file.keys():\n",
    "        j_file['product_name']='null'\n",
    "            \n",
    "    if 'brand'not in j_file.keys():\n",
    "        j_file['brand']='null'\n",
    "            \n",
    "    if 'price'not in j_file.keys():\n",
    "        j_file['price']='null'\n",
    "            \n",
    "    if 'volumn'not in j_file.keys():\n",
    "        j_file['volumn']='null'\n",
    "    \n",
    "    if 'score'not in j_file.keys():\n",
    "        j_file['score']= 0\n",
    "\n",
    "    \n",
    "    if 'pro_picture'not in j_file.keys():\n",
    "        j_file['pro_picture']='null'\n",
    "\n",
    "    \n",
    "    if 'pro_class'not in j_file.keys():\n",
    "        j_file['pro_class']='%s'%reg_class\n",
    "        \n",
    "        \n",
    "    return j_file"
   ]
  },
  {
   "cell_type": "code",
   "execution_count": 6,
   "metadata": {
    "collapsed": true
   },
   "outputs": [],
   "source": [
    "# Function\n",
    "\n",
    "def class_into_num(class_):\n",
    "    \n",
    "    if class_ == 'eyebrow' :\n",
    "        class_ = '1'\n",
    "    elif class_ == 'eye_liner':\n",
    "        class_ = '2'\n",
    "    elif class_ == 'base':\n",
    "        class_ = '3'\n",
    "    elif class_ == 'lip_stick':\n",
    "        class_ = '4'\n",
    "    else:\n",
    "        print(\"out of classification\")\n",
    "        \n",
    "    return class_"
   ]
  },
  {
   "cell_type": "code",
   "execution_count": 7,
   "metadata": {
    "collapsed": true
   },
   "outputs": [],
   "source": [
    "# Making a brand_lists(duplicated content)\n",
    "\n",
    "import glob\n",
    "import json\n",
    "import codecs\n",
    "from pprint import pprint\n",
    "\n",
    "files_base = glob.glob('D:\\\\project\\\\urcosme\\\\eyebrow\\\\*.json')\n",
    "\n",
    "\n",
    "dir_lists = ['eyebrow', 'base', 'eye_liner', 'lip_stick']\n",
    "\n",
    "brand_lists = []\n",
    "\n",
    "for dir_list in dir_lists:\n",
    "    \n",
    "    files_base = glob.glob('D:\\\\project\\\\urcosme\\\\%s\\\\*.json'%dir_list)\n",
    "    \n",
    "    for i in files_base :\n",
    "        \n",
    "        class_ = i.split('\\\\')[3]\n",
    "        \n",
    "        reg_class = class_into_num(class_)\n",
    "        \n",
    "          \n",
    "    \n",
    "        with codecs.open(i,'r','utf-8')as file:\n",
    "            \n",
    "            j_file = json.load(file)\n",
    "            \n",
    "            uni_file = unified_field(j_file)\n",
    "            \n",
    "            brand_lists.append(uni_file['brand'])\n",
    "        \n",
    "        \n",
    "     \n",
    "    \n",
    "\n"
   ]
  },
  {
   "cell_type": "code",
   "execution_count": 8,
   "metadata": {},
   "outputs": [
    {
     "data": {
      "text/plain": [
       "376"
      ]
     },
     "execution_count": 8,
     "metadata": {},
     "output_type": "execute_result"
    }
   ],
   "source": [
    "# distinct brand list \n",
    "\n",
    "unique_brand_lists = []\n",
    "\n",
    "for brand in brand_lists:\n",
    "     if brand not in unique_brand_lists :\n",
    "            unique_brand_lists.append(brand)\n",
    "            \n",
    "unique_brand_lists\n",
    "len(unique_brand_lists)"
   ]
  },
  {
   "cell_type": "code",
   "execution_count": 20,
   "metadata": {
    "collapsed": true
   },
   "outputs": [],
   "source": [
    "# give brand_id\n",
    "\n",
    "brands = []\n",
    "\n",
    "for i in unique_brand_lists:\n",
    "    bb = {'%s'%i : unique_brand_lists.index(i)}\n",
    "    #print(bb)\n",
    "    brands.append(bb)\n",
    "    \n",
    "#brands"
   ]
  },
  {
   "cell_type": "code",
   "execution_count": 16,
   "metadata": {},
   "outputs": [],
   "source": [
    "# insert data into brand -> ok\n",
    "\n",
    "in_brands = []\n",
    "\n",
    "\n",
    "    \n",
    "for i in unique_brand_lists :\n",
    "    bb = {'brand_name': '%s'%i, 'brand_id': unique_brand_lists.index(i)}\n",
    "    in_brands.append(bb)\n",
    "    \n",
    "#in_brands\n",
    "\n",
    "brand_dict = ({'brand_id': in_brands[i]['brand_id'],\n",
    "               'brand_name': in_brands[i]['brand_name']} for i in range(len(in_brands)))\n",
    "\n",
    "with db.atomic():\n",
    "    brand.insert_many(brand_dict).execute()"
   ]
  },
  {
   "cell_type": "code",
   "execution_count": null,
   "metadata": {
    "collapsed": true
   },
   "outputs": [],
   "source": []
  }
 ],
 "metadata": {
  "kernelspec": {
   "display_name": "Python 3",
   "language": "python",
   "name": "python3"
  },
  "language_info": {
   "codemirror_mode": {
    "name": "ipython",
    "version": 3
   },
   "file_extension": ".py",
   "mimetype": "text/x-python",
   "name": "python",
   "nbconvert_exporter": "python",
   "pygments_lexer": "ipython3",
   "version": "3.6.1"
  }
 },
 "nbformat": 4,
 "nbformat_minor": 2
}
