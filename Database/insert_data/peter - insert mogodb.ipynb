{
 "cells": [
  {
   "cell_type": "code",
   "execution_count": 6,
   "metadata": {},
   "outputs": [],
   "source": [
    "import pymongo\n",
    "import re\n",
    "import pandas as pd\n",
    "from pymongo import MongoClient\n",
    "\n",
    "def get_data_from_csv(path):\n",
    "    df = pd.read_csv(path, encoding='mbcs')\n",
    "    df = df.sort_values(\"timestamp\").reset_index()\n",
    "    return df\n",
    "    \n",
    "def get_collection():\n",
    "    client = MongoClient('mongodb://10.120.28.107:17017/')\n",
    "    db = client['mydb']\n",
    "    collection = db.news_apple\n",
    "    return collection\n",
    "\n",
    "\n",
    "\n",
    "def insert_mongo(df,collection):\n",
    "    # TODO: get stock_name\n",
    "    #for x in ['台積','可成','宸鴻','景碩','臻鼎','正崴','鴻海','聯發科','日月光','大立光']:\n",
    "    #    pass\n",
    "    \n",
    "    dicts =({\n",
    "            'date':df['date'][i],\n",
    "            'id_news':i,\n",
    "            'title': df['title'][i],\n",
    "            'timestamp':int(df['timestamp'][i]),\n",
    "            #'writer':df['reporter'][i],\n",
    "            'content':df['content'][i],\n",
    "            #'keyword':df['keyword'][i].split('/'),\n",
    "            'news_company':str(df[\"news_company\"][i])\n",
    "             } for i in range(df['title'].count()))\n",
    "    collection.insert_many(dicts)\n",
    "    \n",
    "# ======== Main ========\n",
    "\n",
    "my_collection = get_collection()\n",
    "\n",
    "my_data = get_data_from_csv('D:/CSV/test.csv')\n",
    "\n",
    "insert_mongo(my_data,my_collection)"
   ]
  },
  {
   "cell_type": "code",
   "execution_count": 9,
   "metadata": {},
   "outputs": [
    {
     "data": {
      "text/plain": [
       "[]"
      ]
     },
     "execution_count": 9,
     "metadata": {},
     "output_type": "execute_result"
    }
   ],
   "source": [
    "import re\n",
    "re.findall\n"
   ]
  },
  {
   "cell_type": "code",
   "execution_count": null,
   "metadata": {
    "collapsed": true
   },
   "outputs": [],
   "source": []
  }
 ],
 "metadata": {
  "kernelspec": {
   "display_name": "Python 3",
   "language": "python",
   "name": "python3"
  },
  "language_info": {
   "codemirror_mode": {
    "name": "ipython",
    "version": 3
   },
   "file_extension": ".py",
   "mimetype": "text/x-python",
   "name": "python",
   "nbconvert_exporter": "python",
   "pygments_lexer": "ipython3",
   "version": "3.6.1"
  }
 },
 "nbformat": 4,
 "nbformat_minor": 2
}
