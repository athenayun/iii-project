{
 "cells": [
  {
   "cell_type": "code",
   "execution_count": null,
   "metadata": {
    "collapsed": true
   },
   "outputs": [],
   "source": [
    "!pip install Pymongo\n"
   ]
  },
  {
   "cell_type": "code",
   "execution_count": 1,
   "metadata": {
    "collapsed": true
   },
   "outputs": [],
   "source": [
    "import pymongo\n",
    "from pymongo import MongoClient\n",
    "\n",
    "client = MongoClient('localhost', 27017)"
   ]
  },
  {
   "cell_type": "code",
   "execution_count": 5,
   "metadata": {
    "collapsed": true
   },
   "outputs": [],
   "source": [
    "\n",
    "\n",
    "import glob\n",
    "import pprint\n",
    "import json\n",
    "import codecs\n",
    "\n",
    "db = client['project']\n",
    "collection = db['lip_stick_raw']\n",
    "\n",
    "files = glob.glob('D:\\\\project\\\\urcosme\\\\lip_stick\\\\*.json')\n",
    "\n",
    "\n",
    "for i in files:\n",
    "    with codecs.open(i,'r','utf-8')as file :\n",
    "        ff = json.load(file)\n",
    "        ff_dict = json.dumps(ff)\n",
    "        #pprint.pprint(ff)\n",
    "        \n",
    "        collection.insert_one(ff)"
   ]
  },
  {
   "cell_type": "code",
   "execution_count": null,
   "metadata": {
    "collapsed": true
   },
   "outputs": [],
   "source": []
  }
 ],
 "metadata": {
  "kernelspec": {
   "display_name": "Python 3",
   "language": "python",
   "name": "python3"
  },
  "language_info": {
   "codemirror_mode": {
    "name": "ipython",
    "version": 3
   },
   "file_extension": ".py",
   "mimetype": "text/x-python",
   "name": "python",
   "nbconvert_exporter": "python",
   "pygments_lexer": "ipython3",
   "version": "3.6.1"
  }
 },
 "nbformat": 4,
 "nbformat_minor": 2
}
