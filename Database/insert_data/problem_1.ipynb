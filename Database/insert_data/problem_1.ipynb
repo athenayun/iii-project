{
 "cells": [
  {
   "cell_type": "code",
   "execution_count": null,
   "metadata": {
    "collapsed": true
   },
   "outputs": [],
   "source": [
    "import glob\n",
    "import json\n",
    "import codecs\n",
    "from pprint import pprint\n",
    "\n",
    "files_base = glob.glob('D:\\\\project\\\\urcosme\\\\eyebrow\\\\*.json')\n",
    "\n",
    "# there has some problem with  \"base\" directory\n",
    "\n",
    "file_lists = []\n",
    "\n",
    "for i in files_base :\n",
    "    \n",
    "   \n",
    "    class_ = i.split('\\\\')[3]\n",
    "    #print(class_)\n",
    "    reg_class = class_into_num(class_)\n",
    "    #class_into_num(class_)\n",
    "    \n",
    "    with codecs.open(i,'r','utf-8')as file:\n",
    "        \n",
    "        j_file = json.load(file)\n",
    "        \n",
    "        uni_file = unified_field(j_file)\n",
    "        #print(uni_file)?\n",
    "        print(uni_file['brand'])\n",
    "        \n",
    "        \n",
    "         for x in range(len(brands)) :\n",
    "            if uni_file['brand'] not in brands[x].keys() :\n",
    "                continue\n",
    "                \n",
    "            else :\n",
    "                br_num = brands.index('%s'%uni_file['brand'])  \n",
    "                uni_file['brand'] = int(brands[br_num].values())\n",
    "                print(uni_file)"
   ]
  }
 ],
 "metadata": {
  "kernelspec": {
   "display_name": "Python 3",
   "language": "python",
   "name": "python3"
  },
  "language_info": {
   "codemirror_mode": {
    "name": "ipython",
    "version": 3
   },
   "file_extension": ".py",
   "mimetype": "text/x-python",
   "name": "python",
   "nbconvert_exporter": "python",
   "pygments_lexer": "ipython3",
   "version": "3.6.1"
  }
 },
 "nbformat": 4,
 "nbformat_minor": 2
}
