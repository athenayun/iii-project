{
 "cells": [
  {
   "cell_type": "code",
   "execution_count": 200,
   "metadata": {
    "collapsed": true
   },
   "outputs": [],
   "source": [
    "\n",
    "import requests as r\n",
    "from bs4 import BeautifulSoup\n",
    "\n",
    "pro_url = \"https://www.urcosme.com/products/80127\"\n",
    "res = r.get(pro_url)\n",
    "\n",
    "res.encoding = 'utf-8' # 調整Response obect的encoding，不然中文是亂碼\n",
    "soup = BeautifulSoup(res.text, 'html5lib')\n",
    "\n",
    "#title = \"http://www.innisfreeworld.com\""
   ]
  },
  {
   "cell_type": "code",
   "execution_count": 203,
   "metadata": {},
   "outputs": [
    {
     "data": {
      "text/plain": [
       "[]"
      ]
     },
     "execution_count": 203,
     "metadata": {},
     "output_type": "execute_result"
    }
   ],
   "source": [
    "soup.select(\"img > .img-auto-center\")\n",
    "\n",
    "#[link['src'] for link in soup.select(\"li > a[href^='#'] > img\")]\n",
    "\n",
    "\n"
   ]
  },
  {
   "cell_type": "code",
   "execution_count": 194,
   "metadata": {},
   "outputs": [
    {
     "data": {
      "text/plain": [
       "['#19595', '#19596', '#19597', '#19598', '#19599', '#19600']"
      ]
     },
     "execution_count": 194,
     "metadata": {},
     "output_type": "execute_result"
    }
   ],
   "source": [
    "# guarlain\n",
    "# \"li > a.shade\"\n",
    "\n",
    "[link['href'] for link in soup.select(\"li > a.shade\")]\n"
   ]
  },
  {
   "cell_type": "code",
   "execution_count": 199,
   "metadata": {},
   "outputs": [
    {
     "data": {
      "text/plain": [
       "[<a class=\"colored\" data-href=\"#lang-selection\" href=\"#\"> <span class=\"text\"> TW </span> <span class=\"icon icon-triangle\"> <!--[if gte IE 9]><!--> <svg class=\"svg-icon\"> <use class=\"triangle-bottom\" xlink:href=\"#icon-triangle-bottom\"></use> </svg> <!--<![endif]--> </span> </a>,\n",
       " <a class=\"colored\" data-href=\"#contact\" href=\"#\"> <span class=\"icon icon-phone\"> <!--[if gte IE 9]><!--> <svg class=\"svg-icon\"> <use xlink:href=\"#icon-phone\"></use> </svg> <!--<![endif]--> </span> <span class=\"text\"> Contact </span> </a>,\n",
       " <a class=\"colored\" data-href=\"#newsletter\" href=\"#\"> <span class=\"icon icon-letter\"> <!--[if gte IE 9]><!--> <svg class=\"svg-icon\"> <use class=\"letter-a\" xlink:href=\"#icon-letter-a\"></use> <use class=\"letter-b\" xlink:href=\"#icon-letter-b\"></use> </svg> <!--<![endif]--> </span> <span class=\"text\"> newsletter </span> </a>,\n",
       " <a href=\"#Close\" title=\"Close\"> 關閉 <span class=\"icon icon-arrow-top\"> <!--[if gte IE 9]><!--> <svg class=\"svg-icon\"> <use xlink:href=\"#icon-arrow-top\"></use> </svg> <!--<![endif]--> </span> </a>,\n",
       " <a href=\"#Close\" title=\"Close\"> 關閉 <span class=\"icon icon-arrow-top\"> <!--[if gte IE 9]><!--> <svg class=\"svg-icon\"> <use xlink:href=\"#icon-arrow-top\"></use> </svg> <!--<![endif]--> </span> </a>,\n",
       " <a class=\"popup-trigger-relooking popup-trigger-relooking-engraving\" href=\"#popup-engraving\"> <span></span> </a>,\n",
       " <a class=\"shade \" href=\"#19595\" style=\"background: #7b403a;\"> <span class=\"icon icon-check-large\"> <!--[if gte IE 9]><!--> <svg class=\"svg-icon\"> <use xlink:href=\"#icon-check-large\" xmlns:xlink=\"http://www.w3.org/1999/xlink\"></use> </svg> <!--<![endif]--> </span> </a>,\n",
       " <a class=\"shade \" href=\"#19596\" style=\"background: #921927;\"> <span class=\"icon icon-check-large\"> <!--[if gte IE 9]><!--> <svg class=\"svg-icon\"> <use xlink:href=\"#icon-check-large\" xmlns:xlink=\"http://www.w3.org/1999/xlink\"></use> </svg> <!--<![endif]--> </span> </a>,\n",
       " <a class=\"shade \" href=\"#19597\" style=\"background: #a62f22;\"> <span class=\"icon icon-check-large\"> <!--[if gte IE 9]><!--> <svg class=\"svg-icon\"> <use xlink:href=\"#icon-check-large\" xmlns:xlink=\"http://www.w3.org/1999/xlink\"></use> </svg> <!--<![endif]--> </span> </a>,\n",
       " <a class=\"shade \" href=\"#19598\" style=\"background: #e9adb2;\"> <span class=\"icon icon-check-large\"> <!--[if gte IE 9]><!--> <svg class=\"svg-icon\"> <use xlink:href=\"#icon-check-large\" xmlns:xlink=\"http://www.w3.org/1999/xlink\"></use> </svg> <!--<![endif]--> </span> </a>,\n",
       " <a class=\"shade is-active\" href=\"#19599\" style=\"background: #b53e4c;\"> <span class=\"icon icon-check-large\"> <!--[if gte IE 9]><!--> <svg class=\"svg-icon\"> <use xlink:href=\"#icon-check-large\" xmlns:xlink=\"http://www.w3.org/1999/xlink\"></use> </svg> <!--<![endif]--> </span> </a>,\n",
       " <a class=\"shade \" href=\"#19600\" style=\"background: #451e2a;\"> <span class=\"icon icon-check-large\"> <!--[if gte IE 9]><!--> <svg class=\"svg-icon\"> <use xlink:href=\"#icon-check-large\" xmlns:xlink=\"http://www.w3.org/1999/xlink\"></use> </svg> <!--<![endif]--> </span> </a>,\n",
       " <a class=\"btn btn-plus\" href=\"#\"> <span class=\"icon icon-plus\"> <!--[if gte IE 9]><!--> <svg class=\"svg-icon\"> <use xlink:href=\"#icon-zoom-plus\" xmlns:xlink=\"http://www.w3.org/1999/xlink\"></use> </svg> <!--<![endif]--> </span> </a>,\n",
       " <a class=\"btn btn-minus\" href=\"#\"> <span class=\"icon icon-minus\"> <!--[if gte IE 9]><!--> <svg class=\"svg-icon\"> <use xlink:href=\"#icon-zoom-minus\" xmlns:xlink=\"http://www.w3.org/1999/xlink\"></use> </svg> <!--<![endif]--> </span> </a>,\n",
       " <a class=\"btn-close\" href=\"#\"> <span class=\"icon icon-cross\"> <!--[if gte IE 9]><!--> <svg class=\"svg-icon\"> <use xlink:href=\"#icon-cross\" xmlns:xlink=\"http://www.w3.org/1999/xlink\"></use> </svg> <!--<![endif]--> </span> </a>,\n",
       " <a class=\"widget widget-anchor-scroll\" href=\"#field_description\"> <span>產品介紹</span> </a>,\n",
       " <a class=\"widget widget-anchor-scroll\" href=\"#direction_use\"> <span>使用方式</span> </a>,\n",
       " <a action=\"print\" href=\"#\" target=\"_blank\"> <span class=\"icon icon-print\"> <!--[if gte IE 9]><!--> <svg class=\"svg-icon\"> <use xlink:href=\"#icon-print\" xmlns:xlink=\"http://www.w3.org/1999/xlink\"></use> </svg> <!--<![endif]--> </span> <span>列印</span> </a>,\n",
       " <a class=\"widget-anchor-scroll\" href=\"#page-top\">Back to top <span class=\"icon icon-arrow-top\"> <!--[if gte IE 9]><!--> <svg class=\"svg-icon\"> <use xlink:href=\"#icon-arrow-top\"></use> </svg> <!--<![endif]--> </span> </a>]"
      ]
     },
     "execution_count": 199,
     "metadata": {},
     "output_type": "execute_result"
    }
   ],
   "source": [
    "soup.select(\"a[href^='#']\")"
   ]
  },
  {
   "cell_type": "code",
   "execution_count": 175,
   "metadata": {},
   "outputs": [
    {
     "data": {
      "text/plain": [
       "[]"
      ]
     },
     "execution_count": 175,
     "metadata": {},
     "output_type": "execute_result"
    }
   ],
   "source": [
    "# guarlain\n",
    "# [link['href'] for link in soup.select(\"li > a.shade\")]\n",
    "names = []\n",
    "for i in soup.select(\"a > span.ui-selectmenu-status\"):\n",
    "    a = i.text\n",
    "    names.append(a)\n",
    "    \n",
    "names\n"
   ]
  },
  {
   "cell_type": "code",
   "execution_count": 90,
   "metadata": {
    "scrolled": false
   },
   "outputs": [
    {
     "data": {
      "text/plain": [
       "['https://www.byterry.com/img/products/images/mimetic-beige/_variantSwatch/BY-TERRY-ROUGE-EXPERT-TEXTURE-2-1.png',\n",
       " 'https://www.byterry.com/img/products/images/bloom-nude/_variantSwatch/BY-TERRY-ROUGE-EXPERT-TEXTURE-2-2.png',\n",
       " 'https://www.byterry.com/img/products/images/bare-me/_variantSwatch/BY-TERRY-ROUGE-EXPERT-TEXTURE-2-3.png',\n",
       " 'https://www.byterry.com/img/products/images/rose-ease/_variantSwatch/BY-TERRY-ROUGE-EXPERT-TEXTURE-2-4.png',\n",
       " 'https://www.byterry.com/img/products/images/rosy-flush/_variantSwatch/BY-TERRY-ROUGE-EXPERT-TEXTURE-2-6.png',\n",
       " 'https://www.byterry.com/img/products/images/flirt-affair/_variantSwatch/BY-TERRY-ROUGE-EXPERT-TEXTURE-2-7.png',\n",
       " 'https://www.byterry.com/img/products/images/flower-attitude/_variantSwatch/BY-TERRY-ROUGE-EXPERT-TEXTURE-2-8.png',\n",
       " 'https://www.byterry.com/img/products/images/flesh-award/_variantSwatch/BY-TERRY-ROUGE-EXPERT-TEXTURE-2-9.png',\n",
       " 'https://www.byterry.com/img/products/images/garnet-glow/_variantSwatch/BY-TERRY-ROUGE-EXPERT-TEXTURE-2-10.png',\n",
       " 'https://www.byterry.com/img/products/images/baby-brick/_variantSwatch/BY-TERRY-ROUGE-EXPERT-TEXTURE-2-11.png',\n",
       " 'https://www.byterry.com/img/products/images/naked-nectar/_variantSwatch/BY-TERRY-ROUGE-EXPERT-TEXTURE-2-12.png',\n",
       " 'https://www.byterry.com/img/products/images/chilly-cream/_variantSwatch/BY-TERRY-ROUGE-EXPERT-TEXTURE-2-13.png',\n",
       " 'https://www.byterry.com/img/products/images/my-red/_variantSwatch/BY-TERRY-ROUGE-EXPERT-TEXTURE-2-17.png',\n",
       " 'https://www.byterry.com/img/products/images/be-mine/_variantSwatch/BY-TERRY-ROUGE-EXPERT-TEXTURE-2-18.png',\n",
       " 'https://www.byterry.com/img/products/images/mystic-red/_variantSwatch/BY-TERRY-ROUGE-EXPERT-TEXTURE-2-20.png',\n",
       " 'https://www.byterry.com/img/products/images/palace-wine/_variantSwatch/BY-TERRY-ROUGE-EXPERT-TEXTURE-2-21.png',\n",
       " 'https://www.byterry.com/img/products/images/play-plum/_variantSwatch/BY-TERRY-ROUGE-EXPERT-TEXTURE-2-22.png',\n",
       " 'https://www.byterry.com/img/products/images/pink-pong/_variantSwatch/BY-TERRY-ROUGE-EXPERT-TEXTURE-2-23.png',\n",
       " 'https://www.byterry.com/img/products/images/dark-purple/_variantSwatch/BY-TERRY-ROUGE-EXPERT-TEXTURE-2-25.png',\n",
       " 'https://www.byterry.com/img/products/images/choco-chic/_variantSwatch/SWATCH-N°26-Rouge-Expert-Choco-Chic.png',\n",
       " 'https://www.byterry.com/img/products/images/chocolate-tea/_variantSwatch/SWATCHN°27-Rouge-Expert-Chocolate-Tea.png',\n",
       " 'https://www.byterry.com/img/products/images/pecan-nude/_variantSwatch/SWATCHN°28-Rouge-Expert-Pecan-Nude.png',\n",
       " 'https://www.byterry.com/img/products/images/orchid-glaze/_variantSwatch/SWATCHN°29-Rouge-Expert-Orchid-Glaze.png',\n",
       " 'https://www.byterry.com/img/products/images/chai-latte/_variantSwatch/SWATCHN°30-Rouge-Expert-Chai-Latte.png']"
      ]
     },
     "execution_count": 90,
     "metadata": {},
     "output_type": "execute_result"
    }
   ],
   "source": [
    "# by_terry\n",
    "# \"div > img[data-variant-title^='N']\"\n",
    "\n",
    "[link['src'] for link in soup.select(\"div > img[data-variant-title^='N']\")]"
   ]
  },
  {
   "cell_type": "code",
   "execution_count": 122,
   "metadata": {},
   "outputs": [
    {
     "name": "stdout",
     "output_type": "stream",
     "text": [
      "['http://www.canmake.com/color_img/item_lip021_02.gif', 'http://www.canmake.com/color_img/item_lip021_03.gif', 'http://www.canmake.com/color_img/item_lip021_05.gif', 'http://www.canmake.com/color_img/item_lip021_06.gif', 'http://www.canmake.com/color_img/item_lip021_09.gif', 'http://www.canmake.com/color_img/item_lip021_10.gif', 'http://www.canmake.com/color_img/item_lip021_11.gif', 'http://www.canmake.com/color_img/item_lip021_12.gif', 'http://www.canmake.com/color_img/item_lip021_13.gif', 'http://www.canmake.com/color_img/item_lip021_14.gif', 'http://www.canmake.com/color_img/item_lip021_t01.gif', 'http://www.canmake.com/color_img/item_lip021_t02.gif', 'http://www.canmake.com/color_img/item_lip021_t03.gif', 'http://www.canmake.com/color_img/item_lip021_t04.gif']\n"
     ]
    }
   ],
   "source": [
    "# canmake\n",
    "# \"div > img[alt$='image']\"\n",
    "host = \"http://www.canmake.com\"\n",
    "temp = [link['src'] for link in soup.select(\"div > img[alt$='image']\")]\n",
    "dam = []\n",
    "for i in temp:\n",
    "    dada = host + i.split('..')[2]\n",
    "    dam.append(dada)\n",
    "print(dam)    \n",
    "\n",
    "#res_links = [host + link['src'] for link in soup.select(\"div > img[alt$='image']\")]\n",
    "\n",
    "\n",
    "# names = [link['alt'] for link in soup.select(\"div > img[alt$='image']\")]\n"
   ]
  },
  {
   "cell_type": "code",
   "execution_count": 142,
   "metadata": {},
   "outputs": [
    {
     "name": "stdout",
     "output_type": "stream",
     "text": [
      "[<div class=\"color_name\">[02]Smily Gerbera</div>, <div class=\"color_name\">[03]Tiny Sweetpea</div>, <div class=\"color_name\">[05]Flowing Cherry Petal</div>, <div class=\"color_name\">[06]Sweet Clematis</div>, <div class=\"color_name\">[09] Masquerade Bud</div>, <div class=\"color_name\">[10] Flowery Princess</div>, <div class=\"color_name\">[11] Raspberry Rose</div>, <div class=\"color_name\">[12] Little Plum Candy</div>, <div class=\"color_name\">[13] Milky Alyssum</div>, <div class=\"color_name\">[14] Popy Bouquet</div>, <div class=\"color_name\">[T01] Little Anemone (Long-lasting tinted type)</div>, <div class=\"color_name\">[T02] Happy Tulip (Long-lasting tinted type)</div>, <div class=\"color_name\">[T03] Ruby Carnation (Long-lasting tinted type)</div>, <div class=\"color_name\">[T04] Chocolate Lily (Long-lasting tinted type)</div>]\n",
      "[02]Smily Gerbera\n",
      "[03]Tiny Sweetpea\n",
      "[05]Flowing Cherry Petal\n",
      "[06]Sweet Clematis\n",
      "[09] Masquerade Bud\n",
      "[10] Flowery Princess\n",
      "[11] Raspberry Rose\n",
      "[12] Little Plum Candy\n",
      "[13] Milky Alyssum\n",
      "[14] Popy Bouquet\n",
      "[T01] Little Anemone (Long-lasting tinted type)\n",
      "[T02] Happy Tulip (Long-lasting tinted type)\n",
      "[T03] Ruby Carnation (Long-lasting tinted type)\n",
      "[T04] Chocolate Lily (Long-lasting tinted type)\n"
     ]
    }
   ],
   "source": [
    "# canmake\n",
    "#[link['src'] for link in soup.select(\"div > .color_name\")]\n",
    "\n",
    "b = '%s'%soup.select(\"div > .color_name\")\n",
    "print(b)\n",
    "\n",
    "c=b.split(\",\")\n",
    "c\n",
    "names = []\n",
    "for i in c :\n",
    "    d = i.split('<div class=\"color_name\">')[1].split('</div>')[0]\n",
    "    names.append(d)\n",
    "    print(d)"
   ]
  },
  {
   "cell_type": "code",
   "execution_count": 143,
   "metadata": {},
   "outputs": [
    {
     "data": {
      "text/plain": [
       "['[02]Smily Gerbera',\n",
       " '[03]Tiny Sweetpea',\n",
       " '[05]Flowing Cherry Petal',\n",
       " '[06]Sweet Clematis',\n",
       " '[09] Masquerade Bud',\n",
       " '[10] Flowery Princess',\n",
       " '[11] Raspberry Rose',\n",
       " '[12] Little Plum Candy',\n",
       " '[13] Milky Alyssum',\n",
       " '[14] Popy Bouquet',\n",
       " '[T01] Little Anemone (Long-lasting tinted type)',\n",
       " '[T02] Happy Tulip (Long-lasting tinted type)',\n",
       " '[T03] Ruby Carnation (Long-lasting tinted type)',\n",
       " '[T04] Chocolate Lily (Long-lasting tinted type)']"
      ]
     },
     "execution_count": 143,
     "metadata": {},
     "output_type": "execute_result"
    }
   ],
   "source": [
    "names"
   ]
  },
  {
   "cell_type": "code",
   "execution_count": 121,
   "metadata": {},
   "outputs": [
    {
     "data": {
      "text/plain": [
       "['../../color_img/item_lip021_02.gif',\n",
       " '../../color_img/item_lip021_03.gif',\n",
       " '../../color_img/item_lip021_05.gif',\n",
       " '../../color_img/item_lip021_06.gif',\n",
       " '../../color_img/item_lip021_09.gif',\n",
       " '../../color_img/item_lip021_10.gif',\n",
       " '../../color_img/item_lip021_11.gif',\n",
       " '../../color_img/item_lip021_12.gif',\n",
       " '../../color_img/item_lip021_13.gif',\n",
       " '../../color_img/item_lip021_14.gif',\n",
       " '../../color_img/item_lip021_t01.gif',\n",
       " '../../color_img/item_lip021_t02.gif',\n",
       " '../../color_img/item_lip021_t03.gif',\n",
       " '../../color_img/item_lip021_t04.gif']"
      ]
     },
     "execution_count": 121,
     "metadata": {},
     "output_type": "execute_result"
    }
   ],
   "source": [
    "temp"
   ]
  },
  {
   "cell_type": "code",
   "execution_count": 98,
   "metadata": {
    "scrolled": true
   },
   "outputs": [
    {
     "data": {
      "text/plain": [
       "['OR250',\n",
       " 'OR251',\n",
       " 'OR252',\n",
       " 'BE350',\n",
       " 'BR351',\n",
       " 'BE352',\n",
       " 'BR353',\n",
       " 'RD450',\n",
       " 'RD451',\n",
       " 'RD452',\n",
       " 'RD453',\n",
       " 'RD454',\n",
       " 'RD455',\n",
       " 'RO650',\n",
       " 'RO651',\n",
       " 'RO652',\n",
       " 'RO653',\n",
       " 'PK850',\n",
       " 'BE851',\n",
       " 'BE852',\n",
       " 'BE854',\n",
       " 'PK855',\n",
       " 'PK856',\n",
       " 'PK857',\n",
       " 'PK858']"
      ]
     },
     "execution_count": 98,
     "metadata": {},
     "output_type": "execute_result"
    }
   ],
   "source": [
    "#cosmedecorte\n",
    "\n",
    "# \"li > img[src^='/images']\"\n",
    "host = \"http://www.cosmedecorte.com.tw\"\n",
    "res_links = [host + link['src'] for link in soup.select(\"li > img[src^='/images']\")]\n",
    "names = [link['alt'] for link in soup.select(\"li > img[src^='/images']\")]\n",
    "names  \n",
    "#res_links"
   ]
  },
  {
   "cell_type": "code",
   "execution_count": 166,
   "metadata": {},
   "outputs": [
    {
     "data": {
      "text/plain": [
       "[' N°101 Beige Mousseline',\n",
       " ' N°101 Beige Mousseline',\n",
       " ' N°101 Beige Mousseline',\n",
       " ' N°101 Beige Mousseline',\n",
       " ' N°101 Beige Mousseline',\n",
       " ' N°101 Beige Mousseline',\n",
       " ' N°101 Beige Mousseline',\n",
       " ' N°101 Beige Mousseline',\n",
       " ' N°101 Beige Mousseline',\n",
       " ' N°101 Beige Mousseline',\n",
       " ' N°101 Beige Mousseline',\n",
       " ' N°101 Beige Mousseline',\n",
       " ' N°101 Beige Mousseline',\n",
       " ' N°101 Beige Mousseline',\n",
       " ' N°101 Beige Mousseline',\n",
       " ' N°101 Beige Mousseline',\n",
       " ' N°101 Beige Mousseline',\n",
       " ' N°101 Beige Mousseline',\n",
       " ' N°101 Beige Mousseline',\n",
       " ' N°101 Beige Mousseline',\n",
       " ' N°101 Beige Mousseline',\n",
       " ' N°101 Beige Mousseline',\n",
       " ' N°101 Beige Mousseline',\n",
       " ' N°101 Beige Mousseline',\n",
       " ' N°101 Beige Mousseline',\n",
       " ' N°101 Beige Mousseline',\n",
       " ' N°101 Beige Mousseline',\n",
       " ' N°101 Beige Mousseline',\n",
       " ' N°101 Beige Mousseline',\n",
       " ' N°101 Beige Mousseline',\n",
       " ' N°101 Beige Mousseline',\n",
       " ' N°101 Beige Mousseline',\n",
       " ' N°101 Beige Mousseline',\n",
       " ' N°101 Beige Mousseline',\n",
       " ' N°101 Beige Mousseline',\n",
       " ' N°101 Beige Mousseline',\n",
       " ' N°101 Beige Mousseline',\n",
       " ' N°101 Beige Mousseline',\n",
       " ' N°101 Beige Mousseline',\n",
       " ' N°101 Beige Mousseline',\n",
       " ' N°101 Beige Mousseline',\n",
       " ' N°101 Beige Mousseline',\n",
       " ' N°101 Beige Mousseline',\n",
       " ' N°101 Beige Mousseline',\n",
       " ' N°101 Beige Mousseline',\n",
       " ' N°101 Beige Mousseline',\n",
       " ' N°101 Beige Mousseline',\n",
       " ' N°101 Beige Mousseline']"
      ]
     },
     "execution_count": 166,
     "metadata": {},
     "output_type": "execute_result"
    }
   ],
   "source": [
    "# Givenchy\n",
    "import urllib\n",
    "#from pyquery import PyQuery as pq\n",
    "#from lxml import etree\n",
    "\n",
    "#d = pq(\"<html></html>\")\n",
    "#d = pq(etree.fromstring(\"<html></html>\"))\n",
    "#d = pq(url=your_url)\n",
    "#d = pq(url=your_url, opener=lambda url, **kw: urlopen(url).read())\n",
    "#d = pq(filename=path_to_html_file)\n",
    "\n",
    "\n",
    "\n",
    "# \"div > p.shade > img[src^='https']\"\n",
    "res_links = [link['src'] for link in soup.select(\"div > p.shade > img[src^='https']\")]\n",
    "#res_links\n",
    "#names = [link['src'] for link in soup.select(\"div > p.shade\")]\n",
    "#names\n",
    "soup.select_one(\"div > p.shade\").text\n",
    "names = []\n",
    "\n",
    "for i in soup.select(\"div > p.shade\"):\n",
    "    a = soup.select_one(\"div > p.shade\").text\n",
    "    \n",
    "    names.append(a.split('\\n')[1])\n",
    "    \n",
    "names"
   ]
  },
  {
   "cell_type": "code",
   "execution_count": 93,
   "metadata": {
    "collapsed": true
   },
   "outputs": [],
   "source": [
    "# by_terry\n",
    "res_links = [link['src'] for link in soup.select(\"div > img[data-variant-title^='N']\")]\n",
    "names = [link['data-variant-title'] for link in soup.select(\"div > img[data-variant-title^='N']\")]\n",
    "names\n",
    "\n",
    "for i in range(len(names)):\n",
    "    res2 = r.get(res_links[i], stream=True)\n",
    "    with open('./color_temp/%s.jpg'%names[i], 'wb') as f:\n",
    "            shutil.copyfileobj(res2.raw, f)\n"
   ]
  },
  {
   "cell_type": "code",
   "execution_count": 51,
   "metadata": {},
   "outputs": [
    {
     "data": {
      "text/plain": [
       "['http://www.tomford.com/on/demandware.store/Sites-tomford-Site/default/Product-Variation?pid=T31H-1&dwvar_T31H-1_color=JOAN&dwvar_T31H-1_size=OS',\n",
       " 'http://www.tomford.com/on/demandware.store/Sites-tomford-Site/default/Product-Variation?pid=T31H-1&dwvar_T31H-1_color=MONICA&dwvar_T31H-1_size=OS',\n",
       " 'http://www.tomford.com/on/demandware.store/Sites-tomford-Site/default/Product-Variation?pid=T31H-1&dwvar_T31H-1_color=KYRA&dwvar_T31H-1_size=OS',\n",
       " 'http://www.tomford.com/on/demandware.store/Sites-tomford-Site/default/Product-Variation?pid=T31H-1&dwvar_T31H-1_color=DAKOTA&dwvar_T31H-1_size=OS',\n",
       " 'http://www.tomford.com/on/demandware.store/Sites-tomford-Site/default/Product-Variation?pid=T31H-1&dwvar_T31H-1_color=SOPHIA&dwvar_T31H-1_size=OS',\n",
       " 'http://www.tomford.com/on/demandware.store/Sites-tomford-Site/default/Product-Variation?pid=T31H-1&dwvar_T31H-1_color=ROSIE&dwvar_T31H-1_size=OS',\n",
       " 'http://www.tomford.com/on/demandware.store/Sites-tomford-Site/default/Product-Variation?pid=T31H-1&dwvar_T31H-1_color=MARISA&dwvar_T31H-1_size=OS',\n",
       " 'http://www.tomford.com/on/demandware.store/Sites-tomford-Site/default/Product-Variation?pid=T31H-1&dwvar_T31H-1_color=ASHLEY&dwvar_T31H-1_size=OS',\n",
       " 'http://www.tomford.com/on/demandware.store/Sites-tomford-Site/default/Product-Variation?pid=T31H-1&dwvar_T31H-1_color=VIOLET&dwvar_T31H-1_size=OS',\n",
       " 'http://www.tomford.com/on/demandware.store/Sites-tomford-Site/default/Product-Variation?pid=T31H-1&dwvar_T31H-1_color=LOULOU&dwvar_T31H-1_size=OS',\n",
       " 'http://www.tomford.com/on/demandware.store/Sites-tomford-Site/default/Product-Variation?pid=T31H-1&dwvar_T31H-1_color=ZELDA&dwvar_T31H-1_size=OS',\n",
       " 'http://www.tomford.com/on/demandware.store/Sites-tomford-Site/default/Product-Variation?pid=T31H-1&dwvar_T31H-1_color=BIANCA&dwvar_T31H-1_size=OS',\n",
       " 'http://www.tomford.com/on/demandware.store/Sites-tomford-Site/default/Product-Variation?pid=T31H-1&dwvar_T31H-1_color=GEORGIE&dwvar_T31H-1_size=OS',\n",
       " 'http://www.tomford.com/on/demandware.store/Sites-tomford-Site/default/Product-Variation?pid=T31H-1&dwvar_T31H-1_color=ZOE&dwvar_T31H-1_size=OS',\n",
       " 'http://www.tomford.com/on/demandware.store/Sites-tomford-Site/default/Product-Variation?pid=T31H-1&dwvar_T31H-1_color=ISLA&dwvar_T31H-1_size=OS',\n",
       " 'http://www.tomford.com/on/demandware.store/Sites-tomford-Site/default/Product-Variation?pid=T31H-1&dwvar_T31H-1_color=ANNE&dwvar_T31H-1_size=OS',\n",
       " 'http://www.tomford.com/on/demandware.store/Sites-tomford-Site/default/Product-Variation?pid=T31H-1&dwvar_T31H-1_color=MARIKO&dwvar_T31H-1_size=OS',\n",
       " 'http://www.tomford.com/on/demandware.store/Sites-tomford-Site/default/Product-Variation?pid=T31H-1&dwvar_T31H-1_color=GALA&dwvar_T31H-1_size=OS',\n",
       " 'http://www.tomford.com/on/demandware.store/Sites-tomford-Site/default/Product-Variation?pid=T31H-1&dwvar_T31H-1_color=GRACE&dwvar_T31H-1_size=OS',\n",
       " 'http://www.tomford.com/on/demandware.store/Sites-tomford-Site/default/Product-Variation?pid=T31H-1&dwvar_T31H-1_color=SASHA&dwvar_T31H-1_size=OS',\n",
       " 'http://www.tomford.com/on/demandware.store/Sites-tomford-Site/default/Product-Variation?pid=T31H-1&dwvar_T31H-1_color=EMMA&dwvar_T31H-1_size=OS',\n",
       " 'http://www.tomford.com/on/demandware.store/Sites-tomford-Site/default/Product-Variation?pid=T31H-1&dwvar_T31H-1_color=NAOMI&dwvar_T31H-1_size=OS',\n",
       " 'http://www.tomford.com/on/demandware.store/Sites-tomford-Site/default/Product-Variation?pid=T31H-1&dwvar_T31H-1_color=INES&dwvar_T31H-1_size=OS',\n",
       " 'http://www.tomford.com/on/demandware.store/Sites-tomford-Site/default/Product-Variation?pid=T31H-1&dwvar_T31H-1_color=VALENTINA&dwvar_T31H-1_size=OS',\n",
       " 'http://www.tomford.com/on/demandware.store/Sites-tomford-Site/default/Product-Variation?pid=T31H-1&dwvar_T31H-1_color=LILY&dwvar_T31H-1_size=OS',\n",
       " 'http://www.tomford.com/on/demandware.store/Sites-tomford-Site/default/Product-Variation?pid=T31H-1&dwvar_T31H-1_color=CARINE&dwvar_T31H-1_size=OS',\n",
       " 'http://www.tomford.com/on/demandware.store/Sites-tomford-Site/default/Product-Variation?pid=T31H-1&dwvar_T31H-1_color=EDITA&dwvar_T31H-1_size=OS',\n",
       " 'http://www.tomford.com/on/demandware.store/Sites-tomford-Site/default/Product-Variation?pid=T31H-1&dwvar_T31H-1_color=AMBER&dwvar_T31H-1_size=OS',\n",
       " 'http://www.tomford.com/on/demandware.store/Sites-tomford-Site/default/Product-Variation?pid=T31H-1&dwvar_T31H-1_color=LISA&dwvar_T31H-1_size=OS',\n",
       " 'http://www.tomford.com/on/demandware.store/Sites-tomford-Site/default/Product-Variation?pid=T31H-1&dwvar_T31H-1_color=NATALIA&dwvar_T31H-1_size=OS',\n",
       " 'http://www.tomford.com/on/demandware.store/Sites-tomford-Site/default/Product-Variation?pid=T31H-1&dwvar_T31H-1_color=ROMY&dwvar_T31H-1_size=OS',\n",
       " 'http://www.tomford.com/on/demandware.store/Sites-tomford-Site/default/Product-Variation?pid=T31H-1&dwvar_T31H-1_color=FABIOLA&dwvar_T31H-1_size=OS',\n",
       " 'http://www.tomford.com/on/demandware.store/Sites-tomford-Site/default/Product-Variation?pid=T31H-1&dwvar_T31H-1_color=MARGUERITE&dwvar_T31H-1_size=OS',\n",
       " 'http://www.tomford.com/on/demandware.store/Sites-tomford-Site/default/Product-Variation?pid=T31H-1&dwvar_T31H-1_color=ALICIA&dwvar_T31H-1_size=OS',\n",
       " 'http://www.tomford.com/on/demandware.store/Sites-tomford-Site/default/Product-Variation?pid=T31H-1&dwvar_T31H-1_color=GRETA&dwvar_T31H-1_size=OS',\n",
       " 'http://www.tomford.com/on/demandware.store/Sites-tomford-Site/default/Product-Variation?pid=T31H-1&dwvar_T31H-1_color=LARA&dwvar_T31H-1_size=OS',\n",
       " 'http://www.tomford.com/on/demandware.store/Sites-tomford-Site/default/Product-Variation?pid=T31H-1&dwvar_T31H-1_color=ELLIE&dwvar_T31H-1_size=OS',\n",
       " 'http://www.tomford.com/on/demandware.store/Sites-tomford-Site/default/Product-Variation?pid=T31H-1&dwvar_T31H-1_color=LENA&dwvar_T31H-1_size=OS',\n",
       " 'http://www.tomford.com/on/demandware.store/Sites-tomford-Site/default/Product-Variation?pid=T31H-1&dwvar_T31H-1_color=ISAMAYA&dwvar_T31H-1_size=OS',\n",
       " 'http://www.tomford.com/on/demandware.store/Sites-tomford-Site/default/Product-Variation?pid=T31H-1&dwvar_T31H-1_color=NICO&dwvar_T31H-1_size=OS',\n",
       " 'http://www.tomford.com/on/demandware.store/Sites-tomford-Site/default/Product-Variation?pid=T31H-1&dwvar_T31H-1_color=CAROLYN&dwvar_T31H-1_size=OS',\n",
       " 'http://www.tomford.com/on/demandware.store/Sites-tomford-Site/default/Product-Variation?pid=T31H-1&dwvar_T31H-1_color=BEATRICE&dwvar_T31H-1_size=OS',\n",
       " 'http://www.tomford.com/on/demandware.store/Sites-tomford-Site/default/Product-Variation?pid=T31H-1&dwvar_T31H-1_color=JULIANNE&dwvar_T31H-1_size=OS',\n",
       " 'http://www.tomford.com/on/demandware.store/Sites-tomford-Site/default/Product-Variation?pid=T31H-1&dwvar_T31H-1_color=NINA&dwvar_T31H-1_size=OS',\n",
       " 'http://www.tomford.com/on/demandware.store/Sites-tomford-Site/default/Product-Variation?pid=T31H-1&dwvar_T31H-1_color=RINKO&dwvar_T31H-1_size=OS',\n",
       " 'http://www.tomford.com/on/demandware.store/Sites-tomford-Site/default/Product-Variation?pid=T31H-1&dwvar_T31H-1_color=LEIGH&dwvar_T31H-1_size=OS',\n",
       " 'http://www.tomford.com/on/demandware.store/Sites-tomford-Site/default/Product-Variation?pid=T31H-1&dwvar_T31H-1_color=SCARLETT&dwvar_T31H-1_size=OS',\n",
       " 'http://www.tomford.com/on/demandware.store/Sites-tomford-Site/default/Product-Variation?pid=T31H-1&dwvar_T31H-1_color=ALEXIS&dwvar_T31H-1_size=OS',\n",
       " 'http://www.tomford.com/on/demandware.store/Sites-tomford-Site/default/Product-Variation?pid=T31H-1&dwvar_T31H-1_color=INGRID&dwvar_T31H-1_size=OS',\n",
       " 'http://www.tomford.com/on/demandware.store/Sites-tomford-Site/default/Product-Variation?pid=T31H-1&dwvar_T31H-1_color=EVAN&dwvar_T31H-1_size=OS',\n",
       " 'http://www.tomford.com/on/demandware.store/Sites-tomford-Site/default/Product-Variation?pid=T31H-1&dwvar_T31H-1_color=CHRISTOPHER&dwvar_T31H-1_size=OS',\n",
       " 'http://www.tomford.com/on/demandware.store/Sites-tomford-Site/default/Product-Variation?pid=T31H-1&dwvar_T31H-1_color=BEN&dwvar_T31H-1_size=OS',\n",
       " 'http://www.tomford.com/on/demandware.store/Sites-tomford-Site/default/Product-Variation?pid=T31H-1&dwvar_T31H-1_color=ANDERSON&dwvar_T31H-1_size=OS',\n",
       " 'http://www.tomford.com/on/demandware.store/Sites-tomford-Site/default/Product-Variation?pid=T31H-1&dwvar_T31H-1_color=THOMAS&dwvar_T31H-1_size=OS',\n",
       " 'http://www.tomford.com/on/demandware.store/Sites-tomford-Site/default/Product-Variation?pid=T31H-1&dwvar_T31H-1_color=JARED&dwvar_T31H-1_size=OS',\n",
       " 'http://www.tomford.com/on/demandware.store/Sites-tomford-Site/default/Product-Variation?pid=T31H-1&dwvar_T31H-1_color=CRISTIANO&dwvar_T31H-1_size=OS',\n",
       " 'http://www.tomford.com/on/demandware.store/Sites-tomford-Site/default/Product-Variation?pid=T31H-1&dwvar_T31H-1_color=DYLAN&dwvar_T31H-1_size=OS',\n",
       " 'http://www.tomford.com/on/demandware.store/Sites-tomford-Site/default/Product-Variation?pid=T31H-1&dwvar_T31H-1_color=DOMINIC&dwvar_T31H-1_size=OS',\n",
       " 'http://www.tomford.com/on/demandware.store/Sites-tomford-Site/default/Product-Variation?pid=T31H-1&dwvar_T31H-1_color=NICHOLAS&dwvar_T31H-1_size=OS',\n",
       " 'http://www.tomford.com/on/demandware.store/Sites-tomford-Site/default/Product-Variation?pid=T31H-1&dwvar_T31H-1_color=ALEXANDER&dwvar_T31H-1_size=OS',\n",
       " 'http://www.tomford.com/on/demandware.store/Sites-tomford-Site/default/Product-Variation?pid=T31H-1&dwvar_T31H-1_color=BRADLEY&dwvar_T31H-1_size=OS',\n",
       " 'http://www.tomford.com/on/demandware.store/Sites-tomford-Site/default/Product-Variation?pid=T31H-1&dwvar_T31H-1_color=FLYNN&dwvar_T31H-1_size=OS',\n",
       " 'http://www.tomford.com/on/demandware.store/Sites-tomford-Site/default/Product-Variation?pid=T31H-1&dwvar_T31H-1_color=JAMES&dwvar_T31H-1_size=OS',\n",
       " 'http://www.tomford.com/on/demandware.store/Sites-tomford-Site/default/Product-Variation?pid=T31H-1&dwvar_T31H-1_color=MAGNUS&dwvar_T31H-1_size=OS',\n",
       " 'http://www.tomford.com/on/demandware.store/Sites-tomford-Site/default/Product-Variation?pid=T31H-1&dwvar_T31H-1_color=GIACOMO&dwvar_T31H-1_size=OS',\n",
       " 'http://www.tomford.com/on/demandware.store/Sites-tomford-Site/default/Product-Variation?pid=T31H-1&dwvar_T31H-1_color=JULIAN&dwvar_T31H-1_size=OS',\n",
       " 'http://www.tomford.com/on/demandware.store/Sites-tomford-Site/default/Product-Variation?pid=T31H-1&dwvar_T31H-1_color=COLLIN&dwvar_T31H-1_size=OS',\n",
       " 'http://www.tomford.com/on/demandware.store/Sites-tomford-Site/default/Product-Variation?pid=T31H-1&dwvar_T31H-1_color=CARY&dwvar_T31H-1_size=OS',\n",
       " 'http://www.tomford.com/on/demandware.store/Sites-tomford-Site/default/Product-Variation?pid=T31H-1&dwvar_T31H-1_color=ASHTON&dwvar_T31H-1_size=OS',\n",
       " 'http://www.tomford.com/on/demandware.store/Sites-tomford-Site/default/Product-Variation?pid=T31H-1&dwvar_T31H-1_color=RICHARD&dwvar_T31H-1_size=OS',\n",
       " 'http://www.tomford.com/on/demandware.store/Sites-tomford-Site/default/Product-Variation?pid=T31H-1&dwvar_T31H-1_color=MITCHELL&dwvar_T31H-1_size=OS',\n",
       " 'http://www.tomford.com/on/demandware.store/Sites-tomford-Site/default/Product-Variation?pid=T31H-1&dwvar_T31H-1_color=CHARLES&dwvar_T31H-1_size=OS',\n",
       " 'http://www.tomford.com/on/demandware.store/Sites-tomford-Site/default/Product-Variation?pid=T31H-1&dwvar_T31H-1_color=PATRICK&dwvar_T31H-1_size=OS',\n",
       " 'http://www.tomford.com/on/demandware.store/Sites-tomford-Site/default/Product-Variation?pid=T31H-1&dwvar_T31H-1_color=MICHAEL&dwvar_T31H-1_size=OS',\n",
       " 'http://www.tomford.com/on/demandware.store/Sites-tomford-Site/default/Product-Variation?pid=T31H-1&dwvar_T31H-1_color=FEDERICO&dwvar_T31H-1_size=OS',\n",
       " 'http://www.tomford.com/on/demandware.store/Sites-tomford-Site/default/Product-Variation?pid=T31H-1&dwvar_T31H-1_color=CONNOR&dwvar_T31H-1_size=OS',\n",
       " 'http://www.tomford.com/on/demandware.store/Sites-tomford-Site/default/Product-Variation?pid=T31H-1&dwvar_T31H-1_color=LEONARDO&dwvar_T31H-1_size=OS',\n",
       " 'http://www.tomford.com/on/demandware.store/Sites-tomford-Site/default/Product-Variation?pid=T31H-1&dwvar_T31H-1_color=LUCIANO&dwvar_T31H-1_size=OS',\n",
       " 'http://www.tomford.com/on/demandware.store/Sites-tomford-Site/default/Product-Variation?pid=T31H-1&dwvar_T31H-1_color=ALAIN&dwvar_T31H-1_size=OS',\n",
       " 'http://www.tomford.com/on/demandware.store/Sites-tomford-Site/default/Product-Variation?pid=T31H-1&dwvar_T31H-1_color=WARREN&dwvar_T31H-1_size=OS',\n",
       " 'http://www.tomford.com/on/demandware.store/Sites-tomford-Site/default/Product-Variation?pid=T31H-1&dwvar_T31H-1_color=JACK&dwvar_T31H-1_size=OS',\n",
       " 'http://www.tomford.com/on/demandware.store/Sites-tomford-Site/default/Product-Variation?pid=T31H-1&dwvar_T31H-1_color=GRAHAM&dwvar_T31H-1_size=OS',\n",
       " 'http://www.tomford.com/on/demandware.store/Sites-tomford-Site/default/Product-Variation?pid=T31H-1&dwvar_T31H-1_color=SNOWDON&dwvar_T31H-1_size=OS',\n",
       " 'http://www.tomford.com/on/demandware.store/Sites-tomford-Site/default/Product-Variation?pid=T31H-1&dwvar_T31H-1_color=AARON&dwvar_T31H-1_size=OS',\n",
       " 'http://www.tomford.com/on/demandware.store/Sites-tomford-Site/default/Product-Variation?pid=T31H-1&dwvar_T31H-1_color=TRAVIS&dwvar_T31H-1_size=OS',\n",
       " 'http://www.tomford.com/on/demandware.store/Sites-tomford-Site/default/Product-Variation?pid=T31H-1&dwvar_T31H-1_color=AUSTIN&dwvar_T31H-1_size=OS',\n",
       " 'http://www.tomford.com/on/demandware.store/Sites-tomford-Site/default/Product-Variation?pid=T31H-1&dwvar_T31H-1_color=JAKE&dwvar_T31H-1_size=OS',\n",
       " 'http://www.tomford.com/on/demandware.store/Sites-tomford-Site/default/Product-Variation?pid=T31H-1&dwvar_T31H-1_color=ALEX&dwvar_T31H-1_size=OS',\n",
       " 'http://www.tomford.com/on/demandware.store/Sites-tomford-Site/default/Product-Variation?pid=T31H-1&dwvar_T31H-1_color=DOUGLAS&dwvar_T31H-1_size=OS',\n",
       " 'http://www.tomford.com/on/demandware.store/Sites-tomford-Site/default/Product-Variation?pid=T31H-1&dwvar_T31H-1_color=RYAN&dwvar_T31H-1_size=OS',\n",
       " 'http://www.tomford.com/on/demandware.store/Sites-tomford-Site/default/Product-Variation?pid=T31H-1&dwvar_T31H-1_color=LOGAN&dwvar_T31H-1_size=OS',\n",
       " 'http://www.tomford.com/on/demandware.store/Sites-tomford-Site/default/Product-Variation?pid=T31H-1&dwvar_T31H-1_color=ROBERTO&dwvar_T31H-1_size=OS',\n",
       " 'http://www.tomford.com/on/demandware.store/Sites-tomford-Site/default/Product-Variation?pid=T31H-1&dwvar_T31H-1_color=HIRO&dwvar_T31H-1_size=OS',\n",
       " 'http://www.tomford.com/on/demandware.store/Sites-tomford-Site/default/Product-Variation?pid=T31H-1&dwvar_T31H-1_color=JOAQUIN&dwvar_T31H-1_size=OS',\n",
       " 'http://www.tomford.com/on/demandware.store/Sites-tomford-Site/default/Product-Variation?pid=T31H-1&dwvar_T31H-1_color=TONY&dwvar_T31H-1_size=OS',\n",
       " 'http://www.tomford.com/on/demandware.store/Sites-tomford-Site/default/Product-Variation?pid=T31H-1&dwvar_T31H-1_color=ELLIOT&dwvar_T31H-1_size=OS',\n",
       " 'http://www.tomford.com/on/demandware.store/Sites-tomford-Site/default/Product-Variation?pid=T31H-1&dwvar_T31H-1_color=DRAKE&dwvar_T31H-1_size=OS',\n",
       " 'http://www.tomford.com/on/demandware.store/Sites-tomford-Site/default/Product-Variation?pid=T31H-1&dwvar_T31H-1_color=INIGO&dwvar_T31H-1_size=OS',\n",
       " 'http://www.tomford.com/on/demandware.store/Sites-tomford-Site/default/Product-Variation?pid=T31H-1&dwvar_T31H-1_color=JON&dwvar_T31H-1_size=OS']"
      ]
     },
     "execution_count": 51,
     "metadata": {},
     "output_type": "execute_result"
    }
   ],
   "source": [
    "[link['href'] for link in soup.select(\"li.emptyswatch > a[href^='http']\")]"
   ]
  },
  {
   "cell_type": "code",
   "execution_count": 78,
   "metadata": {
    "collapsed": true
   },
   "outputs": [],
   "source": [
    "res_links = []\n",
    "host = \"http:\"\n",
    "\n",
    "\n",
    "#a = [link['data-img'] for link in soup.select(\"li.emptyswatch > a[href^='http']\")].split('//')\n",
    "res_links.extend([host + link['data-img'] for link in soup.select(\"li.emptyswatch > a[href^='http']\")])\n"
   ]
  },
  {
   "cell_type": "code",
   "execution_count": 105,
   "metadata": {},
   "outputs": [
    {
     "name": "stdout",
     "output_type": "stream",
     "text": [
      "['TH-01 Beige', 'TH-02 Orange', 'TH-03 Rose ']\n"
     ]
    },
    {
     "data": {
      "text/plain": [
       "['http://d14t2etaw24t4p.cloudfront.net/userfiles/sm/sm22_images_B1/2017071042343545.jpg',\n",
       " 'http://d14t2etaw24t4p.cloudfront.net/userfiles/sm/sm22_images_B1/2017071042343543.jpg',\n",
       " 'http://d14t2etaw24t4p.cloudfront.net/userfiles/sm/sm22_images_B1/2017071042343541.jpg']"
      ]
     },
     "execution_count": 105,
     "metadata": {},
     "output_type": "execute_result"
    }
   ],
   "source": [
    "# RMK\n",
    "\n",
    "#\"li > a > img[src^='http']\"\n",
    "\n",
    "res_links = [link['src'] for link in soup.select(\"li > a > img[src^='http']\")]\n",
    "names = [link['alt'] for link in soup.select(\"li > a > img[src^='http']\")]\n",
    "\n",
    "names\n",
    "temp = []\n",
    "for i in names:\n",
    "    name = i.split('：')[1]\n",
    "    temp.append(name)\n",
    "    \n",
    "print(temp)\n",
    "res_links"
   ]
  },
  {
   "cell_type": "code",
   "execution_count": 72,
   "metadata": {},
   "outputs": [
    {
     "name": "stdout",
     "output_type": "stream",
     "text": [
      "http://www.tomford.com/boys-girls/i1.adis.ws/i/tom_ford/OM-JOAN\n",
      "http://www.tomford.com/boys-girls/i1.adis.ws/i/tom_ford/OM-MONICA\n",
      "http://www.tomford.com/boys-girls/i1.adis.ws/i/tom_ford/OM-KYRA\n",
      "http://www.tomford.com/boys-girls/i1.adis.ws/i/tom_ford/OM-DAKOTA\n",
      "http://www.tomford.com/boys-girls/i1.adis.ws/i/tom_ford/OM-SOPHIA\n",
      "http://www.tomford.com/boys-girls/i1.adis.ws/i/tom_ford/OM-ROSIE\n",
      "http://www.tomford.com/boys-girls/i1.adis.ws/i/tom_ford/OM-MARISA\n",
      "http://www.tomford.com/boys-girls/i1.adis.ws/i/tom_ford/OM-ASHLEY\n",
      "http://www.tomford.com/boys-girls/i1.adis.ws/i/tom_ford/OM-VIOLET\n",
      "http://www.tomford.com/boys-girls/i1.adis.ws/i/tom_ford/OM-LOULOU\n",
      "http://www.tomford.com/boys-girls/i1.adis.ws/i/tom_ford/OM-ZELDA\n",
      "http://www.tomford.com/boys-girls/i1.adis.ws/i/tom_ford/OM-BIANCA\n",
      "http://www.tomford.com/boys-girls/i1.adis.ws/i/tom_ford/OM-GEORGIE\n",
      "http://www.tomford.com/boys-girls/i1.adis.ws/i/tom_ford/OM-ZOE\n",
      "http://www.tomford.com/boys-girls/i1.adis.ws/i/tom_ford/OM-ISLA\n",
      "http://www.tomford.com/boys-girls/i1.adis.ws/i/tom_ford/OM-ANNE\n",
      "http://www.tomford.com/boys-girls/i1.adis.ws/i/tom_ford/OM-MARIKO\n",
      "http://www.tomford.com/boys-girls/i1.adis.ws/i/tom_ford/OM-GALA\n",
      "http://www.tomford.com/boys-girls/i1.adis.ws/i/tom_ford/OM-GRACE\n",
      "http://www.tomford.com/boys-girls/i1.adis.ws/i/tom_ford/OM-SASHA\n",
      "http://www.tomford.com/boys-girls/i1.adis.ws/i/tom_ford/OM-EMMA\n",
      "http://www.tomford.com/boys-girls/i1.adis.ws/i/tom_ford/OM-NAOMI\n",
      "http://www.tomford.com/boys-girls/i1.adis.ws/i/tom_ford/OM-INES\n",
      "http://www.tomford.com/boys-girls/i1.adis.ws/i/tom_ford/OM-VALENTINA\n",
      "http://www.tomford.com/boys-girls/i1.adis.ws/i/tom_ford/OM-LILY\n",
      "http://www.tomford.com/boys-girls/i1.adis.ws/i/tom_ford/OM-CARINE\n",
      "http://www.tomford.com/boys-girls/i1.adis.ws/i/tom_ford/OM-EDITA\n",
      "http://www.tomford.com/boys-girls/i1.adis.ws/i/tom_ford/OM-AMBER\n",
      "http://www.tomford.com/boys-girls/i1.adis.ws/i/tom_ford/OM-LISA\n",
      "http://www.tomford.com/boys-girls/i1.adis.ws/i/tom_ford/OM-NATALIA\n",
      "http://www.tomford.com/boys-girls/i1.adis.ws/i/tom_ford/OM-ROMY\n",
      "http://www.tomford.com/boys-girls/i1.adis.ws/i/tom_ford/OM-FABIOLA\n",
      "http://www.tomford.com/boys-girls/i1.adis.ws/i/tom_ford/OM-MARGUERITE\n",
      "http://www.tomford.com/boys-girls/i1.adis.ws/i/tom_ford/OM-ALICIA\n",
      "http://www.tomford.com/boys-girls/i1.adis.ws/i/tom_ford/OM-GRETA\n",
      "http://www.tomford.com/boys-girls/i1.adis.ws/i/tom_ford/OM-LARA\n",
      "http://www.tomford.com/boys-girls/i1.adis.ws/i/tom_ford/OM-ELLIE\n",
      "http://www.tomford.com/boys-girls/i1.adis.ws/i/tom_ford/OM-LENA\n",
      "http://www.tomford.com/boys-girls/i1.adis.ws/i/tom_ford/OM-ISAMAYA\n",
      "http://www.tomford.com/boys-girls/i1.adis.ws/i/tom_ford/OM-NICO\n",
      "http://www.tomford.com/boys-girls/i1.adis.ws/i/tom_ford/OM-CAROLYN\n",
      "http://www.tomford.com/boys-girls/i1.adis.ws/i/tom_ford/OM-BEATRICE\n",
      "http://www.tomford.com/boys-girls/i1.adis.ws/i/tom_ford/OM-JULIANNE\n",
      "http://www.tomford.com/boys-girls/i1.adis.ws/i/tom_ford/OM-NINA\n",
      "http://www.tomford.com/boys-girls/i1.adis.ws/i/tom_ford/OM-RINKO\n",
      "http://www.tomford.com/boys-girls/i1.adis.ws/i/tom_ford/OM-LEIGH\n",
      "http://www.tomford.com/boys-girls/i1.adis.ws/i/tom_ford/OM-SCARLETT\n",
      "http://www.tomford.com/boys-girls/i1.adis.ws/i/tom_ford/OM-ALEXIS\n",
      "http://www.tomford.com/boys-girls/i1.adis.ws/i/tom_ford/OM-INGRID\n",
      "http://www.tomford.com/boys-girls/i1.adis.ws/i/tom_ford/OM-EVAN\n",
      "http://www.tomford.com/boys-girls/i1.adis.ws/i/tom_ford/OM-CHRISTOPHER\n",
      "http://www.tomford.com/boys-girls/i1.adis.ws/i/tom_ford/OM-BEN\n",
      "http://www.tomford.com/boys-girls/i1.adis.ws/i/tom_ford/OM-ANDERSON\n",
      "http://www.tomford.com/boys-girls/i1.adis.ws/i/tom_ford/OM-THOMAS\n",
      "http://www.tomford.com/boys-girls/i1.adis.ws/i/tom_ford/OM-JARED\n",
      "http://www.tomford.com/boys-girls/i1.adis.ws/i/tom_ford/OM-CRISTIANO\n",
      "http://www.tomford.com/boys-girls/i1.adis.ws/i/tom_ford/OM-DYLAN\n",
      "http://www.tomford.com/boys-girls/i1.adis.ws/i/tom_ford/OM-DOMINIC\n",
      "http://www.tomford.com/boys-girls/i1.adis.ws/i/tom_ford/OM-NICHOLAS\n",
      "http://www.tomford.com/boys-girls/i1.adis.ws/i/tom_ford/OM-ALEXANDER\n",
      "http://www.tomford.com/boys-girls/i1.adis.ws/i/tom_ford/OM-BRADLEY\n",
      "http://www.tomford.com/boys-girls/i1.adis.ws/i/tom_ford/OM-FLYNN\n",
      "http://www.tomford.com/boys-girls/i1.adis.ws/i/tom_ford/OM-JAMES\n",
      "http://www.tomford.com/boys-girls/i1.adis.ws/i/tom_ford/OM-MAGNUS\n",
      "http://www.tomford.com/boys-girls/i1.adis.ws/i/tom_ford/OM-GIACOMO\n",
      "http://www.tomford.com/boys-girls/i1.adis.ws/i/tom_ford/OM-JULIAN\n",
      "http://www.tomford.com/boys-girls/i1.adis.ws/i/tom_ford/OM-COLLIN\n",
      "http://www.tomford.com/boys-girls/i1.adis.ws/i/tom_ford/OM-CARY\n",
      "http://www.tomford.com/boys-girls/i1.adis.ws/i/tom_ford/OM-ASHTON\n",
      "http://www.tomford.com/boys-girls/i1.adis.ws/i/tom_ford/OM-RICHARD\n",
      "http://www.tomford.com/boys-girls/i1.adis.ws/i/tom_ford/OM-MITCHELL\n",
      "http://www.tomford.com/boys-girls/i1.adis.ws/i/tom_ford/OM-CHARLES\n",
      "http://www.tomford.com/boys-girls/i1.adis.ws/i/tom_ford/OM-PATRICK\n",
      "http://www.tomford.com/boys-girls/i1.adis.ws/i/tom_ford/OM-MICHAEL\n",
      "http://www.tomford.com/boys-girls/i1.adis.ws/i/tom_ford/OM-FEDERICO\n",
      "http://www.tomford.com/boys-girls/i1.adis.ws/i/tom_ford/OM-CONNOR\n",
      "http://www.tomford.com/boys-girls/i1.adis.ws/i/tom_ford/OM-LEONARDO\n",
      "http://www.tomford.com/boys-girls/i1.adis.ws/i/tom_ford/OM-LUCIANO\n",
      "http://www.tomford.com/boys-girls/i1.adis.ws/i/tom_ford/OM-ALAIN\n",
      "http://www.tomford.com/boys-girls/i1.adis.ws/i/tom_ford/OM-WARREN\n",
      "http://www.tomford.com/boys-girls/i1.adis.ws/i/tom_ford/OM-JACK\n",
      "http://www.tomford.com/boys-girls/i1.adis.ws/i/tom_ford/OM-GRAHAM\n",
      "http://www.tomford.com/boys-girls/i1.adis.ws/i/tom_ford/OM-SNOWDON\n",
      "http://www.tomford.com/boys-girls/i1.adis.ws/i/tom_ford/OM-AARON\n",
      "http://www.tomford.com/boys-girls/i1.adis.ws/i/tom_ford/OM-TRAVIS\n",
      "http://www.tomford.com/boys-girls/i1.adis.ws/i/tom_ford/OM-AUSTIN\n",
      "http://www.tomford.com/boys-girls/i1.adis.ws/i/tom_ford/OM-JAKE\n",
      "http://www.tomford.com/boys-girls/i1.adis.ws/i/tom_ford/OM-ALEX\n",
      "http://www.tomford.com/boys-girls/i1.adis.ws/i/tom_ford/OM-DOUGLAS\n",
      "http://www.tomford.com/boys-girls/i1.adis.ws/i/tom_ford/OM-RYAN\n",
      "http://www.tomford.com/boys-girls/i1.adis.ws/i/tom_ford/OM-LOGAN\n",
      "http://www.tomford.com/boys-girls/i1.adis.ws/i/tom_ford/OM-ROBERTO\n",
      "http://www.tomford.com/boys-girls/i1.adis.ws/i/tom_ford/OM-HIRO\n",
      "http://www.tomford.com/boys-girls/i1.adis.ws/i/tom_ford/OM-JOAQUIN\n",
      "http://www.tomford.com/boys-girls/i1.adis.ws/i/tom_ford/OM-TONY\n",
      "http://www.tomford.com/boys-girls/i1.adis.ws/i/tom_ford/OM-ELLIOT\n",
      "http://www.tomford.com/boys-girls/i1.adis.ws/i/tom_ford/OM-DRAKE\n",
      "http://www.tomford.com/boys-girls/i1.adis.ws/i/tom_ford/OM-INIGO\n",
      "http://www.tomford.com/boys-girls/i1.adis.ws/i/tom_ford/OM-JON\n"
     ]
    }
   ],
   "source": [
    "# tomford\n",
    "res_links = []\n",
    "host = \"http://www.tomford.com/boys-girls/\"\n",
    "\n",
    "for i in [link['data-img'] for link in soup.select(\"li.emptyswatch > a[href^='http']\")]:\n",
    "    oo = i.split('//')\n",
    "    aa = host+oo[1]\n",
    "    print(aa)\n",
    "    #res_links.extend(host + oo)"
   ]
  },
  {
   "cell_type": "code",
   "execution_count": 79,
   "metadata": {
    "scrolled": false
   },
   "outputs": [
    {
     "data": {
      "text/plain": [
       "['http://i1.adis.ws/i/tom_ford/OM-JOAN',\n",
       " 'http://i1.adis.ws/i/tom_ford/OM-MONICA',\n",
       " 'http://i1.adis.ws/i/tom_ford/OM-KYRA',\n",
       " 'http://i1.adis.ws/i/tom_ford/OM-DAKOTA',\n",
       " 'http://i1.adis.ws/i/tom_ford/OM-SOPHIA',\n",
       " 'http://i1.adis.ws/i/tom_ford/OM-ROSIE',\n",
       " 'http://i1.adis.ws/i/tom_ford/OM-MARISA',\n",
       " 'http://i1.adis.ws/i/tom_ford/OM-ASHLEY',\n",
       " 'http://i1.adis.ws/i/tom_ford/OM-VIOLET',\n",
       " 'http://i1.adis.ws/i/tom_ford/OM-LOULOU',\n",
       " 'http://i1.adis.ws/i/tom_ford/OM-ZELDA',\n",
       " 'http://i1.adis.ws/i/tom_ford/OM-BIANCA',\n",
       " 'http://i1.adis.ws/i/tom_ford/OM-GEORGIE',\n",
       " 'http://i1.adis.ws/i/tom_ford/OM-ZOE',\n",
       " 'http://i1.adis.ws/i/tom_ford/OM-ISLA',\n",
       " 'http://i1.adis.ws/i/tom_ford/OM-ANNE',\n",
       " 'http://i1.adis.ws/i/tom_ford/OM-MARIKO',\n",
       " 'http://i1.adis.ws/i/tom_ford/OM-GALA',\n",
       " 'http://i1.adis.ws/i/tom_ford/OM-GRACE',\n",
       " 'http://i1.adis.ws/i/tom_ford/OM-SASHA',\n",
       " 'http://i1.adis.ws/i/tom_ford/OM-EMMA',\n",
       " 'http://i1.adis.ws/i/tom_ford/OM-NAOMI',\n",
       " 'http://i1.adis.ws/i/tom_ford/OM-INES',\n",
       " 'http://i1.adis.ws/i/tom_ford/OM-VALENTINA',\n",
       " 'http://i1.adis.ws/i/tom_ford/OM-LILY',\n",
       " 'http://i1.adis.ws/i/tom_ford/OM-CARINE',\n",
       " 'http://i1.adis.ws/i/tom_ford/OM-EDITA',\n",
       " 'http://i1.adis.ws/i/tom_ford/OM-AMBER',\n",
       " 'http://i1.adis.ws/i/tom_ford/OM-LISA',\n",
       " 'http://i1.adis.ws/i/tom_ford/OM-NATALIA',\n",
       " 'http://i1.adis.ws/i/tom_ford/OM-ROMY',\n",
       " 'http://i1.adis.ws/i/tom_ford/OM-FABIOLA',\n",
       " 'http://i1.adis.ws/i/tom_ford/OM-MARGUERITE',\n",
       " 'http://i1.adis.ws/i/tom_ford/OM-ALICIA',\n",
       " 'http://i1.adis.ws/i/tom_ford/OM-GRETA',\n",
       " 'http://i1.adis.ws/i/tom_ford/OM-LARA',\n",
       " 'http://i1.adis.ws/i/tom_ford/OM-ELLIE',\n",
       " 'http://i1.adis.ws/i/tom_ford/OM-LENA',\n",
       " 'http://i1.adis.ws/i/tom_ford/OM-ISAMAYA',\n",
       " 'http://i1.adis.ws/i/tom_ford/OM-NICO',\n",
       " 'http://i1.adis.ws/i/tom_ford/OM-CAROLYN',\n",
       " 'http://i1.adis.ws/i/tom_ford/OM-BEATRICE',\n",
       " 'http://i1.adis.ws/i/tom_ford/OM-JULIANNE',\n",
       " 'http://i1.adis.ws/i/tom_ford/OM-NINA',\n",
       " 'http://i1.adis.ws/i/tom_ford/OM-RINKO',\n",
       " 'http://i1.adis.ws/i/tom_ford/OM-LEIGH',\n",
       " 'http://i1.adis.ws/i/tom_ford/OM-SCARLETT',\n",
       " 'http://i1.adis.ws/i/tom_ford/OM-ALEXIS',\n",
       " 'http://i1.adis.ws/i/tom_ford/OM-INGRID',\n",
       " 'http://i1.adis.ws/i/tom_ford/OM-EVAN',\n",
       " 'http://i1.adis.ws/i/tom_ford/OM-CHRISTOPHER',\n",
       " 'http://i1.adis.ws/i/tom_ford/OM-BEN',\n",
       " 'http://i1.adis.ws/i/tom_ford/OM-ANDERSON',\n",
       " 'http://i1.adis.ws/i/tom_ford/OM-THOMAS',\n",
       " 'http://i1.adis.ws/i/tom_ford/OM-JARED',\n",
       " 'http://i1.adis.ws/i/tom_ford/OM-CRISTIANO',\n",
       " 'http://i1.adis.ws/i/tom_ford/OM-DYLAN',\n",
       " 'http://i1.adis.ws/i/tom_ford/OM-DOMINIC',\n",
       " 'http://i1.adis.ws/i/tom_ford/OM-NICHOLAS',\n",
       " 'http://i1.adis.ws/i/tom_ford/OM-ALEXANDER',\n",
       " 'http://i1.adis.ws/i/tom_ford/OM-BRADLEY',\n",
       " 'http://i1.adis.ws/i/tom_ford/OM-FLYNN',\n",
       " 'http://i1.adis.ws/i/tom_ford/OM-JAMES',\n",
       " 'http://i1.adis.ws/i/tom_ford/OM-MAGNUS',\n",
       " 'http://i1.adis.ws/i/tom_ford/OM-GIACOMO',\n",
       " 'http://i1.adis.ws/i/tom_ford/OM-JULIAN',\n",
       " 'http://i1.adis.ws/i/tom_ford/OM-COLLIN',\n",
       " 'http://i1.adis.ws/i/tom_ford/OM-CARY',\n",
       " 'http://i1.adis.ws/i/tom_ford/OM-ASHTON',\n",
       " 'http://i1.adis.ws/i/tom_ford/OM-RICHARD',\n",
       " 'http://i1.adis.ws/i/tom_ford/OM-MITCHELL',\n",
       " 'http://i1.adis.ws/i/tom_ford/OM-CHARLES',\n",
       " 'http://i1.adis.ws/i/tom_ford/OM-PATRICK',\n",
       " 'http://i1.adis.ws/i/tom_ford/OM-MICHAEL',\n",
       " 'http://i1.adis.ws/i/tom_ford/OM-FEDERICO',\n",
       " 'http://i1.adis.ws/i/tom_ford/OM-CONNOR',\n",
       " 'http://i1.adis.ws/i/tom_ford/OM-LEONARDO',\n",
       " 'http://i1.adis.ws/i/tom_ford/OM-LUCIANO',\n",
       " 'http://i1.adis.ws/i/tom_ford/OM-ALAIN',\n",
       " 'http://i1.adis.ws/i/tom_ford/OM-WARREN',\n",
       " 'http://i1.adis.ws/i/tom_ford/OM-JACK',\n",
       " 'http://i1.adis.ws/i/tom_ford/OM-GRAHAM',\n",
       " 'http://i1.adis.ws/i/tom_ford/OM-SNOWDON',\n",
       " 'http://i1.adis.ws/i/tom_ford/OM-AARON',\n",
       " 'http://i1.adis.ws/i/tom_ford/OM-TRAVIS',\n",
       " 'http://i1.adis.ws/i/tom_ford/OM-AUSTIN',\n",
       " 'http://i1.adis.ws/i/tom_ford/OM-JAKE',\n",
       " 'http://i1.adis.ws/i/tom_ford/OM-ALEX',\n",
       " 'http://i1.adis.ws/i/tom_ford/OM-DOUGLAS',\n",
       " 'http://i1.adis.ws/i/tom_ford/OM-RYAN',\n",
       " 'http://i1.adis.ws/i/tom_ford/OM-LOGAN',\n",
       " 'http://i1.adis.ws/i/tom_ford/OM-ROBERTO',\n",
       " 'http://i1.adis.ws/i/tom_ford/OM-HIRO',\n",
       " 'http://i1.adis.ws/i/tom_ford/OM-JOAQUIN',\n",
       " 'http://i1.adis.ws/i/tom_ford/OM-TONY',\n",
       " 'http://i1.adis.ws/i/tom_ford/OM-ELLIOT',\n",
       " 'http://i1.adis.ws/i/tom_ford/OM-DRAKE',\n",
       " 'http://i1.adis.ws/i/tom_ford/OM-INIGO',\n",
       " 'http://i1.adis.ws/i/tom_ford/OM-JON']"
      ]
     },
     "execution_count": 79,
     "metadata": {},
     "output_type": "execute_result"
    }
   ],
   "source": [
    "res_links"
   ]
  },
  {
   "cell_type": "code",
   "execution_count": 10,
   "metadata": {},
   "outputs": [
    {
     "data": {
      "text/plain": [
       "[<img alt=\"輕盈絲絨霧面唇膏(no.11-20)\" src=\"/upload/product/10776_4.jpg\"/>,\n",
       " <img alt=\"輕盈絲絨霧面唇膏(no.11-20)\" src=\"/upload/product/10776_6.jpg\"/>,\n",
       " <img alt=\"\" src=\"/upload/meterial/PL11_PL1127.jpg\"/>,\n",
       " <img alt=\"no.11 春霞珊瑚粉\" onclick=\"fnViewGetKind_multiSap('58', '2', 'no.11 春霞珊瑚粉', '111771530', '0', '0.0');\" onmouseout=\"fnChgImg('/upload/product/10776_l.jpg');\" onmouseover=\"fnChgImg('/upload/product/111771530_o.jpg');\" src=\"/upload/product/111771530_c.jpg\"/>,\n",
       " <img alt=\"no.12 午後温暖粉\" onclick=\"fnViewGetKind_multiSap('44', '2', 'no.12 午後温暖粉', '111771531', '1', '0.0');\" onmouseout=\"fnChgImg('/upload/product/10776_l.jpg');\" onmouseover=\"fnChgImg('/upload/product/111771531_o.jpg');\" src=\"/upload/product/111771531_c.jpg\"/>,\n",
       " <img alt=\"no.13 傍晚7時的夕陽\" onclick=\"fnViewGetKind_multiSap('39', '2', 'no.13 傍晚7時的夕陽', '111771532', '2', '0.0');\" onmouseout=\"fnChgImg('/upload/product/10776_l.jpg');\" onmouseover=\"fnChgImg('/upload/product/111771532_o.jpg');\" src=\"/upload/product/111771532_c.jpg\"/>,\n",
       " <img alt=\"no.14 染上淡粉的夕陽\" onclick=\"fnViewGetKind_multiSap('50', '2', 'no.14 染上淡粉的夕陽', '111771533', '3', '0.0');\" onmouseout=\"fnChgImg('/upload/product/10776_l.jpg');\" onmouseover=\"fnChgImg('/upload/product/111771533_o.jpg');\" src=\"/upload/product/111771533_c.jpg\"/>,\n",
       " <img alt=\"no.15 玫瑰色春霞\" onclick=\"fnViewGetKind_multiSap('39', '2', 'no.15 玫瑰色春霞', '111771534', '4', '0.0');\" onmouseout=\"fnChgImg('/upload/product/10776_l.jpg');\" onmouseover=\"fnChgImg('/upload/product/111771534_o.jpg');\" src=\"/upload/product/111771534_c.jpg\"/>,\n",
       " <img alt=\"no.16 曼妙紫芒\" onclick=\"fnViewGetKind_multiSap('49', '2', 'no.16 曼妙紫芒', '111774390', '5', '0.0');\" onmouseout=\"fnChgImg('/upload/product/10776_l.jpg');\" onmouseover=\"fnChgImg('/upload/product/111774390_o.jpg');\" src=\"/upload/product/111774390_c.jpg\"/>,\n",
       " <img alt=\"no.17 寂靜晚霞\" onclick=\"fnViewGetKind_multiSap('21', '2', 'no.17 寂靜晚霞', '111774391', '6', '0.0');\" onmouseout=\"fnChgImg('/upload/product/10776_l.jpg');\" onmouseover=\"fnChgImg('/upload/product/111774391_o.jpg');\" src=\"/upload/product/111774391_c.jpg\"/>,\n",
       " <img alt=\"no.18 微醺緋陽\" onclick=\"fnViewGetKind_multiSap('17', '2', 'no.18 微醺緋陽', '111774392', '7', '0.0');\" onmouseout=\"fnChgImg('/upload/product/10776_l.jpg');\" onmouseover=\"fnChgImg('/upload/product/111774392_o.jpg');\" src=\"/upload/product/111774392_c.jpg\"/>,\n",
       " <img alt=\"no.19 山澗霞彩\" onclick=\"fnViewGetKind_multiSap('36', '2', 'no.19 山澗霞彩', '111774393', '8', '0.0');\" onmouseout=\"fnChgImg('/upload/product/10776_l.jpg');\" onmouseover=\"fnChgImg('/upload/product/111774393_o.jpg');\" src=\"/upload/product/111774393_c.jpg\"/>,\n",
       " <img alt=\"no.20 紫芒花束\" onclick=\"fnViewGetKind_multiSap('24', '2', 'no.20 紫芒花束', '111774394', '9', '0.0');\" onmouseout=\"fnChgImg('/upload/product/10776_l.jpg');\" onmouseover=\"fnChgImg('/upload/product/111774394_o.jpg');\" src=\"/upload/product/111774394_c.jpg\"/>]"
      ]
     },
     "execution_count": 10,
     "metadata": {},
     "output_type": "execute_result"
    }
   ],
   "source": [
    "soup.select(\"li > a[href^='#'] > img\")\n",
    "\n",
    "[link['alt'] for link in soup.select(\"li > a[href^='#'] > img\")]"
   ]
  },
  {
   "cell_type": "code",
   "execution_count": 19,
   "metadata": {},
   "outputs": [
    {
     "data": {
      "text/plain": [
       "['輕盈絲絨霧面唇膏(no.11-20)',\n",
       " '輕盈絲絨霧面唇膏(no.11-20)',\n",
       " '',\n",
       " 'no.11 春霞珊瑚粉',\n",
       " 'no.12 午後温暖粉',\n",
       " 'no.13 傍晚7時的夕陽',\n",
       " 'no.14 染上淡粉的夕陽',\n",
       " 'no.15 玫瑰色春霞',\n",
       " 'no.16 曼妙紫芒',\n",
       " 'no.17 寂靜晚霞',\n",
       " 'no.18 微醺緋陽',\n",
       " 'no.19 山澗霞彩',\n",
       " 'no.20 紫芒花束']"
      ]
     },
     "execution_count": 19,
     "metadata": {},
     "output_type": "execute_result"
    }
   ],
   "source": [
    "\n",
    "name = [link['alt'] for link in soup.select(\"li > a[href^='#'] > img\")]\n",
    "name"
   ]
  },
  {
   "cell_type": "code",
   "execution_count": 75,
   "metadata": {},
   "outputs": [
    {
     "data": {
      "text/plain": [
       "['05 JOAN [ULTRA RICH]',\n",
       " '02 MONICA [ULTRA RICH]',\n",
       " '03 KYRA [ULTRA RICH]',\n",
       " '08 DAKOTA [ULTRA RICH]',\n",
       " '09 SOPHIA [ULTRA RICH]',\n",
       " '17 ROSIE [ULTRA RICH]',\n",
       " '18 MARISA [ULTRA RICH]',\n",
       " '19 ASHLEY [ULTRA RICH]',\n",
       " '11 VIOLET [ULTRA RICH]',\n",
       " '10 LOULOU [ULTRA RICH]',\n",
       " '20 ZELDA [ULTRA RICH]',\n",
       " '21 BIANCA [ULTRA RICH]',\n",
       " '12 GEORGIE [ULTRA RICH]',\n",
       " '04 ZOE [ULTRA RICH]',\n",
       " '13 ISLA [ULTRA RICH]',\n",
       " '14 ANNE [ULTRA RICH]',\n",
       " '15 MARIKO [ULTRA RICH]',\n",
       " '16 GALA [ULTRA RICH]',\n",
       " '22 GRACE [ULTRA RICH]',\n",
       " '23 SASHA [ULTRA RICH]',\n",
       " '24 EMMA [ULTRA RICH]',\n",
       " '25 NAOMI [ULTRA RICH]',\n",
       " '06 INES [ULTRA RICH]',\n",
       " '07 VALENTINA [ULTRA RICH]',\n",
       " '01 LILY [SHEER]',\n",
       " '03 CARINE [SHEER]',\n",
       " '02 EDITA [SHEER]',\n",
       " '05 AMBER [SHEER]',\n",
       " '04 LISA [SHEER]',\n",
       " '06 NATALIA [SHEER]',\n",
       " '07 ROMY [SHEER]',\n",
       " '11 FABIOLA [SHEER]',\n",
       " '14 MARGUERITE [SHEER]',\n",
       " '16 ALICIA [SHEER]',\n",
       " '24 GRETA [SHEER]',\n",
       " '09 LARA [SHEER]',\n",
       " '10 ELLIE [SHEER]',\n",
       " '17 LENA [SHEER]',\n",
       " '18 ISAMAYA [SHEER]',\n",
       " '19 NICO [SHEER]',\n",
       " '08 CAROLYN [SHEER]',\n",
       " '20 BEATRICE [SHEER]',\n",
       " '21 JULIANNE [SHEER]',\n",
       " '15 NINA [SHEER]',\n",
       " '22 RINKO [SHEER]',\n",
       " '23 LEIGH [SHEER]',\n",
       " '25 SCARLETT [SHEER]',\n",
       " '12 ALEXIS [SHEER]',\n",
       " '13 INGRID [SHEER]',\n",
       " '27 EVAN [MATTE]',\n",
       " '30 CHRISTOPHER [MATTE]',\n",
       " '29 BEN [MATTE]',\n",
       " '03 ANDERSON [MATTE]',\n",
       " '04 THOMAS [MATTE]',\n",
       " '05 JARED [MATTE]',\n",
       " '06 CRISTIANO [MATTE]',\n",
       " '07 DYLAN [MATTE]',\n",
       " '02 DOMINIC [MATTE]',\n",
       " '28 NICHOLAS [MATTE]',\n",
       " '82 ALEXANDER [CREAM]',\n",
       " '83 BRADLEY [CREAM]',\n",
       " '17 FLYNN [CREAM]',\n",
       " '19 JAMES [CREAM]',\n",
       " 'OC MAGNUS [CREAM]',\n",
       " '25 GIACOMO [CREAM]',\n",
       " '42 JULIAN [CREAM]',\n",
       " '46 COLLIN [CREAM]',\n",
       " '47 CARY [CREAM]',\n",
       " '92 ASHTON [CREAM]',\n",
       " '20 RICHARD [CREAM]',\n",
       " '93 MITCHELL [CREAM]',\n",
       " '0E CHARLES [CREAM]',\n",
       " 'COLOR 22 PATRICK [CREAM] is not available for this combination',\n",
       " '23 MICHAEL [CREAM]',\n",
       " '98 FEDERICO [CREAM]',\n",
       " '97 CONNOR [CREAM]',\n",
       " '40 LEONARDO [CREAM]',\n",
       " '39 LUCIANO [CREAM]',\n",
       " '0A ALAIN [CREAM]',\n",
       " '99 WARREN [CREAM]',\n",
       " '91 JACK [CREAM]',\n",
       " '84 GRAHAM [METALLIC]',\n",
       " '86 SNOWDON [METALLIC]',\n",
       " '87 AARON [METALLIC]',\n",
       " '88 TRAVIS [METALLIC]',\n",
       " '54 AUSTIN [METALLIC]',\n",
       " '63 JAKE [METALLIC]',\n",
       " '52 ALEX [METALLIC]',\n",
       " '85 DOUGLAS [METALLIC]',\n",
       " '89 RYAN [METALLIC]',\n",
       " '94 LOGAN [METALLIC]',\n",
       " '71 ROBERTO [METALLIC]',\n",
       " '64 HIRO [METALLIC]',\n",
       " '73 JOAQUIN [METALLIC]',\n",
       " '72 TONY [METALLIC]',\n",
       " '95 ELLIOT [METALLIC]',\n",
       " '60 DRAKE [METALLIC]',\n",
       " '90 INIGO [METALLIC]',\n",
       " '96 JON [METALLIC]']"
      ]
     },
     "execution_count": 75,
     "metadata": {},
     "output_type": "execute_result"
    }
   ],
   "source": [
    "names = [link['title'] for link in soup.select(\"li.emptyswatch > a[href^='http']\")]\n",
    "names"
   ]
  },
  {
   "cell_type": "code",
   "execution_count": 80,
   "metadata": {
    "collapsed": true
   },
   "outputs": [],
   "source": [
    "g = r.get('http://i1.adis.ws/i/tom_ford/OM-JON')"
   ]
  },
  {
   "cell_type": "code",
   "execution_count": 81,
   "metadata": {
    "collapsed": true
   },
   "outputs": [],
   "source": [
    "#niot a good one\n",
    "import requests as r\n",
    "import shutil\n",
    "\n",
    "names = [link['alt'] for link in soup.select(\"li > a[href^='#'] > img\")]\n",
    "\n",
    "for res_link in res_links:\n",
    "    res2 = r.get(res_link, stream=True)\n",
    "    for name in names:\n",
    "        with open('./color_temp/%s.jpg'%name, 'wb') as f:\n",
    "            shutil.copyfileobj(res2.raw, f)\n",
    "\n",
    "            \n",
    "for name in range(len(names)):\n",
    "    res2r.get(res_link, stream=True)\n"
   ]
  },
  {
   "cell_type": "code",
   "execution_count": 82,
   "metadata": {
    "collapsed": true
   },
   "outputs": [],
   "source": [
    "import requests as r\n",
    "import shutil\n",
    "\n",
    "names = [link['title'] for link in soup.select(\"li.emptyswatch > a[href^='http']\")]\n",
    "res_links\n",
    "\n",
    "for i in range(len(names)):\n",
    "    res2 = r.get(res_links[i], stream=True)\n",
    "    with open('./color_temp/%s.jpg'%names[i], 'wb') as f:\n",
    "            shutil.copyfileobj(res2.raw, f)\n",
    "\n"
   ]
  },
  {
   "cell_type": "code",
   "execution_count": null,
   "metadata": {
    "collapsed": true
   },
   "outputs": [],
   "source": [
    "res_links = []\n",
    "\n",
    "for pg_num in range(2,11):\n",
    "    pg = r.get(pg2_url_tmpl.format(pg_num))\n",
    "    pg.encoding = 'utf-8' # 調整Response obect的encoding，不然中文是亂碼\n",
    "    soup = BeautifulSoup(pg.text, 'html5lib')\n",
    "    res_links.extend([HOST + link['href'].split(\"?\")[0] for link in soup.select(\"h2 > a\")])"
   ]
  },
  {
   "cell_type": "code",
   "execution_count": null,
   "metadata": {
    "collapsed": true
   },
   "outputs": [],
   "source": [
    "with open('./apple_index.html') as f:\n",
    "    html = f.read()\n",
    "    \n",
    "    \n",
    "    \n",
    "with open('apple_index.html', 'w') as f:\n",
    "    f.write(res.text)\n",
    "    \n",
    "    \n",
    "soup = BeautifulSoup(simple_html, 'html5lib')\n",
    "soup\n",
    "\n",
    "soup.select(\"a\")\n",
    "[a['href'] for a in soup.select(\"li > a\")]"
   ]
  },
  {
   "cell_type": "code",
   "execution_count": null,
   "metadata": {
    "collapsed": true
   },
   "outputs": [],
   "source": [
    "# Save image from URL to disk\n",
    "import requests as r\n",
    "import shutil\n",
    "\n",
    "url = 'http://img.appledaily.com.tw/images/ReNews/20170817/420_7beabcb021448d7c65c3ee23e7dca6ba.jpg'\n",
    "\n",
    "res = r.get(url, stream=True)\n",
    "with open('mypic.jpg', 'wb') as f:\n",
    "    shutil.copyfileobj(res.raw, f)"
   ]
  },
  {
   "cell_type": "code",
   "execution_count": null,
   "metadata": {
    "collapsed": true
   },
   "outputs": [],
   "source": [
    "\"\"\"\n",
    "udn\n",
    "\"\"\"\n",
    "\n",
    "import requests as r\n",
    "from bs4 import BeautifulSoup\n",
    "\n",
    "URL = \"https://udn.com/news/breaknews/1\"\n",
    "pg2_url_tmpl = \"https://udn.com/news/get_breaks_article/{}/1/99\"\n",
    "\n",
    "pg1 = r.get(URL)\n",
    "pg1.encoding = 'utf-8' # 調整Response obect的encoding，不然中文是亂碼\n",
    "soup = BeautifulSoup(pg1.text, 'html5lib')\n",
    "\n",
    "soup.select(\"h2 > a\")\n",
    "[link['href'] for link in soup.select(\"h2 > a\")]\n",
    "[link['href'] for link in soup.select(\"h2 > a\")]"
   ]
  },
  {
   "cell_type": "code",
   "execution_count": null,
   "metadata": {
    "collapsed": true
   },
   "outputs": [],
   "source": [
    "for i in range(len(res_list))\n",
    "#len() is a num\n",
    "i\n",
    "\n",
    "['a','v','c']\n",
    "for i in []:\n",
    "    with open(i)\n"
   ]
  }
 ],
 "metadata": {
  "kernelspec": {
   "display_name": "Python 3",
   "language": "python",
   "name": "python3"
  },
  "language_info": {
   "codemirror_mode": {
    "name": "ipython",
    "version": 3
   },
   "file_extension": ".py",
   "mimetype": "text/x-python",
   "name": "python",
   "nbconvert_exporter": "python",
   "pygments_lexer": "ipython3",
   "version": "3.6.1"
  }
 },
 "nbformat": 4,
 "nbformat_minor": 2
}
