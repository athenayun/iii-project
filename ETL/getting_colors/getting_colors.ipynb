{
 "cells": [
  {
   "cell_type": "code",
   "execution_count": null,
   "metadata": {},
   "outputs": [
    {
     "name": "stdout",
     "output_type": "stream",
     "text": [
      "Collecting client\n",
      "  Downloading client-0.0.1.tar.gz\n",
      "Building wheels for collected packages: client\n",
      "  Running setup.py bdist_wheel for client: started\n",
      "  Running setup.py bdist_wheel for client: finished with status 'done'\n",
      "  Stored in directory: C:\\Users\\Java\\AppData\\Local\\pip\\Cache\\wheels\\bf\\e0\\f5\\ce738f37f720f0a3efd2e2f5e532fa5a676c0fe9c57eb96809\n",
      "Successfully built client\n",
      "Installing collected packages: client\n",
      "Successfully installed client-0.0.1\n"
     ]
    }
   ],
   "source": [
    "!pip install client\n",
    "!pip install clarifai "
   ]
  },
  {
   "cell_type": "code",
   "execution_count": 14,
   "metadata": {},
   "outputs": [],
   "source": [
    "import cv2\n",
    "import numpy as np\n",
    "import glob\n",
    "import json\n",
    "def get_color(a,b,c):\n",
    "    dict={}\n",
    "    image=cv2.imdecode(np.fromfile(a,dtype=np.uint8),1)\n",
    "    name=a.split('\\\\')[-1].split('.')[0]\n",
    "    #name=a.split('\\\\')[-1].replace('.','')\n",
    "    blue,green,red=image[c][b]\n",
    "    dict[name]=(int(red),int(green),int(blue))\n",
    "    with open(a.split('.')[0]+'.'+a.split('.')[1]+'.json','w')as f:\n",
    "        json.dump(dict,f)\n",
    "\n",
    "files=glob.glob('D:\\\\project\\\\urcosme\\\\product\\\\innisfree\\\\絲柔炫彩口紅3.3g\\\\*.jpg')\n",
    "for i in files:\n",
    "    get_color(i,10,10)"
   ]
  },
  {
   "cell_type": "code",
   "execution_count": null,
   "metadata": {},
   "outputs": [],
   "source": []
  },
  {
   "cell_type": "code",
   "execution_count": null,
   "metadata": {
    "collapsed": true
   },
   "outputs": [],
   "source": []
  }
 ],
 "metadata": {
  "kernelspec": {
   "display_name": "Python 3",
   "language": "python",
   "name": "python3"
  },
  "language_info": {
   "codemirror_mode": {
    "name": "ipython",
    "version": 3
   },
   "file_extension": ".py",
   "mimetype": "text/x-python",
   "name": "python",
   "nbconvert_exporter": "python",
   "pygments_lexer": "ipython3",
   "version": "3.6.1"
  }
 },
 "nbformat": 4,
 "nbformat_minor": 2
}
